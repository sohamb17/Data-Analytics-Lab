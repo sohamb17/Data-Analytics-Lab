{
  "nbformat": 4,
  "nbformat_minor": 0,
  "metadata": {
    "colab": {
      "name": "DA_Assgn_Part3.ipynb",
      "provenance": []
    },
    "kernelspec": {
      "name": "python3",
      "display_name": "Python 3"
    },
    "language_info": {
      "name": "python"
    }
  },
  "cells": [
    {
      "cell_type": "markdown",
      "source": [
        "# **Correlation and Regression**"
      ],
      "metadata": {
        "id": "JyHPo22mjF_8"
      }
    },
    {
      "cell_type": "code",
      "execution_count": null,
      "metadata": {
        "id": "R5gud4mXdDBL",
        "colab": {
          "base_uri": "https://localhost:8080/"
        },
        "outputId": "a8ec6b12-18f6-481c-e61b-d1d10eb4bab2"
      },
      "outputs": [
        {
          "output_type": "stream",
          "name": "stderr",
          "text": [
            "/usr/local/lib/python3.7/dist-packages/statsmodels/tools/_testing.py:19: FutureWarning: pandas.util.testing is deprecated. Use the functions in the public API at pandas.testing instead.\n",
            "  import pandas.util.testing as tm\n"
          ]
        }
      ],
      "source": [
        "import numpy as np\n",
        "import pandas as pd\n",
        "import matplotlib.pyplot as plt\n",
        "import seaborn as sns\n",
        "from sklearn.linear_model import LinearRegression\n",
        "from sklearn.model_selection import train_test_split\n",
        "from sklearn import metrics\n",
        "import statsmodels.api as sm"
      ]
    },
    {
      "cell_type": "code",
      "source": [
        "df_phones = pd.read_csv(\"/content/drive/MyDrive/Flipkart_mobile_brands_scraped_data.csv\")\n",
        "df_phones"
      ],
      "metadata": {
        "colab": {
          "base_uri": "https://localhost:8080/",
          "height": 424
        },
        "id": "8qxXo_jG_C_w",
        "outputId": "0e183520-0857-457a-bd24-beae824305e4"
      },
      "execution_count": null,
      "outputs": [
        {
          "output_type": "execute_result",
          "data": {
            "text/plain": [
              "       Brand      Model            Color Memory Storage  Rating  \\\n",
              "0       OPPO        A53  Moonlight Black   4 GB   64 GB     4.5   \n",
              "1       OPPO        A53       Mint Cream   4 GB   64 GB     4.5   \n",
              "2       OPPO        A53  Moonlight Black   6 GB  128 GB     4.3   \n",
              "3       OPPO        A53       Mint Cream   6 GB  128 GB     4.3   \n",
              "4       OPPO        A53   Electric Black   4 GB   64 GB     4.5   \n",
              "...      ...        ...              ...    ...     ...     ...   \n",
              "2642  Xiaomi  Redmi Y3          Bold Red   4 GB   64 GB     4.3   \n",
              "2643  Xiaomi  Redmi Y3      Elegant Blue   3 GB   32 GB     4.3   \n",
              "2644  Xiaomi  Redmi Y3      Elegant Blue   4 GB   64 GB     4.2   \n",
              "2645  Xiaomi  Redmi Y3       Prime Black   3 GB   32 GB     4.2   \n",
              "2646  Xiaomi  Redmi Y3       Prime Black   4 GB   64 GB     4.3   \n",
              "\n",
              "      Selling Price  Original Price  \n",
              "0           11990.0         15990.0  \n",
              "1           11990.0         15990.0  \n",
              "2           13990.0         17990.0  \n",
              "3           13990.0         17990.0  \n",
              "4           11990.0         15990.0  \n",
              "...             ...             ...  \n",
              "2642        12999.0         13999.0  \n",
              "2643         9450.0             NaN  \n",
              "2644        12999.0             NaN  \n",
              "2645         9950.0             NaN  \n",
              "2646        12499.0         13999.0  \n",
              "\n",
              "[2647 rows x 8 columns]"
            ],
            "text/html": [
              "\n",
              "  <div id=\"df-10dbeced-ecaf-42a4-a808-7aafb384044f\">\n",
              "    <div class=\"colab-df-container\">\n",
              "      <div>\n",
              "<style scoped>\n",
              "    .dataframe tbody tr th:only-of-type {\n",
              "        vertical-align: middle;\n",
              "    }\n",
              "\n",
              "    .dataframe tbody tr th {\n",
              "        vertical-align: top;\n",
              "    }\n",
              "\n",
              "    .dataframe thead th {\n",
              "        text-align: right;\n",
              "    }\n",
              "</style>\n",
              "<table border=\"1\" class=\"dataframe\">\n",
              "  <thead>\n",
              "    <tr style=\"text-align: right;\">\n",
              "      <th></th>\n",
              "      <th>Brand</th>\n",
              "      <th>Model</th>\n",
              "      <th>Color</th>\n",
              "      <th>Memory</th>\n",
              "      <th>Storage</th>\n",
              "      <th>Rating</th>\n",
              "      <th>Selling Price</th>\n",
              "      <th>Original Price</th>\n",
              "    </tr>\n",
              "  </thead>\n",
              "  <tbody>\n",
              "    <tr>\n",
              "      <th>0</th>\n",
              "      <td>OPPO</td>\n",
              "      <td>A53</td>\n",
              "      <td>Moonlight Black</td>\n",
              "      <td>4 GB</td>\n",
              "      <td>64 GB</td>\n",
              "      <td>4.5</td>\n",
              "      <td>11990.0</td>\n",
              "      <td>15990.0</td>\n",
              "    </tr>\n",
              "    <tr>\n",
              "      <th>1</th>\n",
              "      <td>OPPO</td>\n",
              "      <td>A53</td>\n",
              "      <td>Mint Cream</td>\n",
              "      <td>4 GB</td>\n",
              "      <td>64 GB</td>\n",
              "      <td>4.5</td>\n",
              "      <td>11990.0</td>\n",
              "      <td>15990.0</td>\n",
              "    </tr>\n",
              "    <tr>\n",
              "      <th>2</th>\n",
              "      <td>OPPO</td>\n",
              "      <td>A53</td>\n",
              "      <td>Moonlight Black</td>\n",
              "      <td>6 GB</td>\n",
              "      <td>128 GB</td>\n",
              "      <td>4.3</td>\n",
              "      <td>13990.0</td>\n",
              "      <td>17990.0</td>\n",
              "    </tr>\n",
              "    <tr>\n",
              "      <th>3</th>\n",
              "      <td>OPPO</td>\n",
              "      <td>A53</td>\n",
              "      <td>Mint Cream</td>\n",
              "      <td>6 GB</td>\n",
              "      <td>128 GB</td>\n",
              "      <td>4.3</td>\n",
              "      <td>13990.0</td>\n",
              "      <td>17990.0</td>\n",
              "    </tr>\n",
              "    <tr>\n",
              "      <th>4</th>\n",
              "      <td>OPPO</td>\n",
              "      <td>A53</td>\n",
              "      <td>Electric Black</td>\n",
              "      <td>4 GB</td>\n",
              "      <td>64 GB</td>\n",
              "      <td>4.5</td>\n",
              "      <td>11990.0</td>\n",
              "      <td>15990.0</td>\n",
              "    </tr>\n",
              "    <tr>\n",
              "      <th>...</th>\n",
              "      <td>...</td>\n",
              "      <td>...</td>\n",
              "      <td>...</td>\n",
              "      <td>...</td>\n",
              "      <td>...</td>\n",
              "      <td>...</td>\n",
              "      <td>...</td>\n",
              "      <td>...</td>\n",
              "    </tr>\n",
              "    <tr>\n",
              "      <th>2642</th>\n",
              "      <td>Xiaomi</td>\n",
              "      <td>Redmi Y3</td>\n",
              "      <td>Bold Red</td>\n",
              "      <td>4 GB</td>\n",
              "      <td>64 GB</td>\n",
              "      <td>4.3</td>\n",
              "      <td>12999.0</td>\n",
              "      <td>13999.0</td>\n",
              "    </tr>\n",
              "    <tr>\n",
              "      <th>2643</th>\n",
              "      <td>Xiaomi</td>\n",
              "      <td>Redmi Y3</td>\n",
              "      <td>Elegant Blue</td>\n",
              "      <td>3 GB</td>\n",
              "      <td>32 GB</td>\n",
              "      <td>4.3</td>\n",
              "      <td>9450.0</td>\n",
              "      <td>NaN</td>\n",
              "    </tr>\n",
              "    <tr>\n",
              "      <th>2644</th>\n",
              "      <td>Xiaomi</td>\n",
              "      <td>Redmi Y3</td>\n",
              "      <td>Elegant Blue</td>\n",
              "      <td>4 GB</td>\n",
              "      <td>64 GB</td>\n",
              "      <td>4.2</td>\n",
              "      <td>12999.0</td>\n",
              "      <td>NaN</td>\n",
              "    </tr>\n",
              "    <tr>\n",
              "      <th>2645</th>\n",
              "      <td>Xiaomi</td>\n",
              "      <td>Redmi Y3</td>\n",
              "      <td>Prime Black</td>\n",
              "      <td>3 GB</td>\n",
              "      <td>32 GB</td>\n",
              "      <td>4.2</td>\n",
              "      <td>9950.0</td>\n",
              "      <td>NaN</td>\n",
              "    </tr>\n",
              "    <tr>\n",
              "      <th>2646</th>\n",
              "      <td>Xiaomi</td>\n",
              "      <td>Redmi Y3</td>\n",
              "      <td>Prime Black</td>\n",
              "      <td>4 GB</td>\n",
              "      <td>64 GB</td>\n",
              "      <td>4.3</td>\n",
              "      <td>12499.0</td>\n",
              "      <td>13999.0</td>\n",
              "    </tr>\n",
              "  </tbody>\n",
              "</table>\n",
              "<p>2647 rows × 8 columns</p>\n",
              "</div>\n",
              "      <button class=\"colab-df-convert\" onclick=\"convertToInteractive('df-10dbeced-ecaf-42a4-a808-7aafb384044f')\"\n",
              "              title=\"Convert this dataframe to an interactive table.\"\n",
              "              style=\"display:none;\">\n",
              "        \n",
              "  <svg xmlns=\"http://www.w3.org/2000/svg\" height=\"24px\"viewBox=\"0 0 24 24\"\n",
              "       width=\"24px\">\n",
              "    <path d=\"M0 0h24v24H0V0z\" fill=\"none\"/>\n",
              "    <path d=\"M18.56 5.44l.94 2.06.94-2.06 2.06-.94-2.06-.94-.94-2.06-.94 2.06-2.06.94zm-11 1L8.5 8.5l.94-2.06 2.06-.94-2.06-.94L8.5 2.5l-.94 2.06-2.06.94zm10 10l.94 2.06.94-2.06 2.06-.94-2.06-.94-.94-2.06-.94 2.06-2.06.94z\"/><path d=\"M17.41 7.96l-1.37-1.37c-.4-.4-.92-.59-1.43-.59-.52 0-1.04.2-1.43.59L10.3 9.45l-7.72 7.72c-.78.78-.78 2.05 0 2.83L4 21.41c.39.39.9.59 1.41.59.51 0 1.02-.2 1.41-.59l7.78-7.78 2.81-2.81c.8-.78.8-2.07 0-2.86zM5.41 20L4 18.59l7.72-7.72 1.47 1.35L5.41 20z\"/>\n",
              "  </svg>\n",
              "      </button>\n",
              "      \n",
              "  <style>\n",
              "    .colab-df-container {\n",
              "      display:flex;\n",
              "      flex-wrap:wrap;\n",
              "      gap: 12px;\n",
              "    }\n",
              "\n",
              "    .colab-df-convert {\n",
              "      background-color: #E8F0FE;\n",
              "      border: none;\n",
              "      border-radius: 50%;\n",
              "      cursor: pointer;\n",
              "      display: none;\n",
              "      fill: #1967D2;\n",
              "      height: 32px;\n",
              "      padding: 0 0 0 0;\n",
              "      width: 32px;\n",
              "    }\n",
              "\n",
              "    .colab-df-convert:hover {\n",
              "      background-color: #E2EBFA;\n",
              "      box-shadow: 0px 1px 2px rgba(60, 64, 67, 0.3), 0px 1px 3px 1px rgba(60, 64, 67, 0.15);\n",
              "      fill: #174EA6;\n",
              "    }\n",
              "\n",
              "    [theme=dark] .colab-df-convert {\n",
              "      background-color: #3B4455;\n",
              "      fill: #D2E3FC;\n",
              "    }\n",
              "\n",
              "    [theme=dark] .colab-df-convert:hover {\n",
              "      background-color: #434B5C;\n",
              "      box-shadow: 0px 1px 3px 1px rgba(0, 0, 0, 0.15);\n",
              "      filter: drop-shadow(0px 1px 2px rgba(0, 0, 0, 0.3));\n",
              "      fill: #FFFFFF;\n",
              "    }\n",
              "  </style>\n",
              "\n",
              "      <script>\n",
              "        const buttonEl =\n",
              "          document.querySelector('#df-10dbeced-ecaf-42a4-a808-7aafb384044f button.colab-df-convert');\n",
              "        buttonEl.style.display =\n",
              "          google.colab.kernel.accessAllowed ? 'block' : 'none';\n",
              "\n",
              "        async function convertToInteractive(key) {\n",
              "          const element = document.querySelector('#df-10dbeced-ecaf-42a4-a808-7aafb384044f');\n",
              "          const dataTable =\n",
              "            await google.colab.kernel.invokeFunction('convertToInteractive',\n",
              "                                                     [key], {});\n",
              "          if (!dataTable) return;\n",
              "\n",
              "          const docLinkHtml = 'Like what you see? Visit the ' +\n",
              "            '<a target=\"_blank\" href=https://colab.research.google.com/notebooks/data_table.ipynb>data table notebook</a>'\n",
              "            + ' to learn more about interactive tables.';\n",
              "          element.innerHTML = '';\n",
              "          dataTable['output_type'] = 'display_data';\n",
              "          await google.colab.output.renderOutput(dataTable, element);\n",
              "          const docLink = document.createElement('div');\n",
              "          docLink.innerHTML = docLinkHtml;\n",
              "          element.appendChild(docLink);\n",
              "        }\n",
              "      </script>\n",
              "    </div>\n",
              "  </div>\n",
              "  "
            ]
          },
          "metadata": {},
          "execution_count": 197
        }
      ]
    },
    {
      "cell_type": "code",
      "source": [
        "df_phones[\"Name\"] = df_phones[\"Brand\"].astype(str) +\" \"+df_phones[\"Model\"].astype(str)\n",
        "df_phones"
      ],
      "metadata": {
        "colab": {
          "base_uri": "https://localhost:8080/",
          "height": 424
        },
        "id": "WAvX6QjNAOui",
        "outputId": "719ccf85-6083-4766-f727-b49123de4199"
      },
      "execution_count": null,
      "outputs": [
        {
          "output_type": "execute_result",
          "data": {
            "text/plain": [
              "       Brand      Model            Color Memory Storage  Rating  \\\n",
              "0       OPPO        A53  Moonlight Black   4 GB   64 GB     4.5   \n",
              "1       OPPO        A53       Mint Cream   4 GB   64 GB     4.5   \n",
              "2       OPPO        A53  Moonlight Black   6 GB  128 GB     4.3   \n",
              "3       OPPO        A53       Mint Cream   6 GB  128 GB     4.3   \n",
              "4       OPPO        A53   Electric Black   4 GB   64 GB     4.5   \n",
              "...      ...        ...              ...    ...     ...     ...   \n",
              "2642  Xiaomi  Redmi Y3          Bold Red   4 GB   64 GB     4.3   \n",
              "2643  Xiaomi  Redmi Y3      Elegant Blue   3 GB   32 GB     4.3   \n",
              "2644  Xiaomi  Redmi Y3      Elegant Blue   4 GB   64 GB     4.2   \n",
              "2645  Xiaomi  Redmi Y3       Prime Black   3 GB   32 GB     4.2   \n",
              "2646  Xiaomi  Redmi Y3       Prime Black   4 GB   64 GB     4.3   \n",
              "\n",
              "      Selling Price  Original Price              Name  \n",
              "0           11990.0         15990.0          OPPO A53  \n",
              "1           11990.0         15990.0          OPPO A53  \n",
              "2           13990.0         17990.0          OPPO A53  \n",
              "3           13990.0         17990.0          OPPO A53  \n",
              "4           11990.0         15990.0          OPPO A53  \n",
              "...             ...             ...               ...  \n",
              "2642        12999.0         13999.0  Xiaomi Redmi Y3   \n",
              "2643         9450.0             NaN  Xiaomi Redmi Y3   \n",
              "2644        12999.0             NaN  Xiaomi Redmi Y3   \n",
              "2645         9950.0             NaN  Xiaomi Redmi Y3   \n",
              "2646        12499.0         13999.0  Xiaomi Redmi Y3   \n",
              "\n",
              "[2647 rows x 9 columns]"
            ],
            "text/html": [
              "\n",
              "  <div id=\"df-e2462cb9-1077-4a3c-bd1b-2acd77e64cb6\">\n",
              "    <div class=\"colab-df-container\">\n",
              "      <div>\n",
              "<style scoped>\n",
              "    .dataframe tbody tr th:only-of-type {\n",
              "        vertical-align: middle;\n",
              "    }\n",
              "\n",
              "    .dataframe tbody tr th {\n",
              "        vertical-align: top;\n",
              "    }\n",
              "\n",
              "    .dataframe thead th {\n",
              "        text-align: right;\n",
              "    }\n",
              "</style>\n",
              "<table border=\"1\" class=\"dataframe\">\n",
              "  <thead>\n",
              "    <tr style=\"text-align: right;\">\n",
              "      <th></th>\n",
              "      <th>Brand</th>\n",
              "      <th>Model</th>\n",
              "      <th>Color</th>\n",
              "      <th>Memory</th>\n",
              "      <th>Storage</th>\n",
              "      <th>Rating</th>\n",
              "      <th>Selling Price</th>\n",
              "      <th>Original Price</th>\n",
              "      <th>Name</th>\n",
              "    </tr>\n",
              "  </thead>\n",
              "  <tbody>\n",
              "    <tr>\n",
              "      <th>0</th>\n",
              "      <td>OPPO</td>\n",
              "      <td>A53</td>\n",
              "      <td>Moonlight Black</td>\n",
              "      <td>4 GB</td>\n",
              "      <td>64 GB</td>\n",
              "      <td>4.5</td>\n",
              "      <td>11990.0</td>\n",
              "      <td>15990.0</td>\n",
              "      <td>OPPO A53</td>\n",
              "    </tr>\n",
              "    <tr>\n",
              "      <th>1</th>\n",
              "      <td>OPPO</td>\n",
              "      <td>A53</td>\n",
              "      <td>Mint Cream</td>\n",
              "      <td>4 GB</td>\n",
              "      <td>64 GB</td>\n",
              "      <td>4.5</td>\n",
              "      <td>11990.0</td>\n",
              "      <td>15990.0</td>\n",
              "      <td>OPPO A53</td>\n",
              "    </tr>\n",
              "    <tr>\n",
              "      <th>2</th>\n",
              "      <td>OPPO</td>\n",
              "      <td>A53</td>\n",
              "      <td>Moonlight Black</td>\n",
              "      <td>6 GB</td>\n",
              "      <td>128 GB</td>\n",
              "      <td>4.3</td>\n",
              "      <td>13990.0</td>\n",
              "      <td>17990.0</td>\n",
              "      <td>OPPO A53</td>\n",
              "    </tr>\n",
              "    <tr>\n",
              "      <th>3</th>\n",
              "      <td>OPPO</td>\n",
              "      <td>A53</td>\n",
              "      <td>Mint Cream</td>\n",
              "      <td>6 GB</td>\n",
              "      <td>128 GB</td>\n",
              "      <td>4.3</td>\n",
              "      <td>13990.0</td>\n",
              "      <td>17990.0</td>\n",
              "      <td>OPPO A53</td>\n",
              "    </tr>\n",
              "    <tr>\n",
              "      <th>4</th>\n",
              "      <td>OPPO</td>\n",
              "      <td>A53</td>\n",
              "      <td>Electric Black</td>\n",
              "      <td>4 GB</td>\n",
              "      <td>64 GB</td>\n",
              "      <td>4.5</td>\n",
              "      <td>11990.0</td>\n",
              "      <td>15990.0</td>\n",
              "      <td>OPPO A53</td>\n",
              "    </tr>\n",
              "    <tr>\n",
              "      <th>...</th>\n",
              "      <td>...</td>\n",
              "      <td>...</td>\n",
              "      <td>...</td>\n",
              "      <td>...</td>\n",
              "      <td>...</td>\n",
              "      <td>...</td>\n",
              "      <td>...</td>\n",
              "      <td>...</td>\n",
              "      <td>...</td>\n",
              "    </tr>\n",
              "    <tr>\n",
              "      <th>2642</th>\n",
              "      <td>Xiaomi</td>\n",
              "      <td>Redmi Y3</td>\n",
              "      <td>Bold Red</td>\n",
              "      <td>4 GB</td>\n",
              "      <td>64 GB</td>\n",
              "      <td>4.3</td>\n",
              "      <td>12999.0</td>\n",
              "      <td>13999.0</td>\n",
              "      <td>Xiaomi Redmi Y3</td>\n",
              "    </tr>\n",
              "    <tr>\n",
              "      <th>2643</th>\n",
              "      <td>Xiaomi</td>\n",
              "      <td>Redmi Y3</td>\n",
              "      <td>Elegant Blue</td>\n",
              "      <td>3 GB</td>\n",
              "      <td>32 GB</td>\n",
              "      <td>4.3</td>\n",
              "      <td>9450.0</td>\n",
              "      <td>NaN</td>\n",
              "      <td>Xiaomi Redmi Y3</td>\n",
              "    </tr>\n",
              "    <tr>\n",
              "      <th>2644</th>\n",
              "      <td>Xiaomi</td>\n",
              "      <td>Redmi Y3</td>\n",
              "      <td>Elegant Blue</td>\n",
              "      <td>4 GB</td>\n",
              "      <td>64 GB</td>\n",
              "      <td>4.2</td>\n",
              "      <td>12999.0</td>\n",
              "      <td>NaN</td>\n",
              "      <td>Xiaomi Redmi Y3</td>\n",
              "    </tr>\n",
              "    <tr>\n",
              "      <th>2645</th>\n",
              "      <td>Xiaomi</td>\n",
              "      <td>Redmi Y3</td>\n",
              "      <td>Prime Black</td>\n",
              "      <td>3 GB</td>\n",
              "      <td>32 GB</td>\n",
              "      <td>4.2</td>\n",
              "      <td>9950.0</td>\n",
              "      <td>NaN</td>\n",
              "      <td>Xiaomi Redmi Y3</td>\n",
              "    </tr>\n",
              "    <tr>\n",
              "      <th>2646</th>\n",
              "      <td>Xiaomi</td>\n",
              "      <td>Redmi Y3</td>\n",
              "      <td>Prime Black</td>\n",
              "      <td>4 GB</td>\n",
              "      <td>64 GB</td>\n",
              "      <td>4.3</td>\n",
              "      <td>12499.0</td>\n",
              "      <td>13999.0</td>\n",
              "      <td>Xiaomi Redmi Y3</td>\n",
              "    </tr>\n",
              "  </tbody>\n",
              "</table>\n",
              "<p>2647 rows × 9 columns</p>\n",
              "</div>\n",
              "      <button class=\"colab-df-convert\" onclick=\"convertToInteractive('df-e2462cb9-1077-4a3c-bd1b-2acd77e64cb6')\"\n",
              "              title=\"Convert this dataframe to an interactive table.\"\n",
              "              style=\"display:none;\">\n",
              "        \n",
              "  <svg xmlns=\"http://www.w3.org/2000/svg\" height=\"24px\"viewBox=\"0 0 24 24\"\n",
              "       width=\"24px\">\n",
              "    <path d=\"M0 0h24v24H0V0z\" fill=\"none\"/>\n",
              "    <path d=\"M18.56 5.44l.94 2.06.94-2.06 2.06-.94-2.06-.94-.94-2.06-.94 2.06-2.06.94zm-11 1L8.5 8.5l.94-2.06 2.06-.94-2.06-.94L8.5 2.5l-.94 2.06-2.06.94zm10 10l.94 2.06.94-2.06 2.06-.94-2.06-.94-.94-2.06-.94 2.06-2.06.94z\"/><path d=\"M17.41 7.96l-1.37-1.37c-.4-.4-.92-.59-1.43-.59-.52 0-1.04.2-1.43.59L10.3 9.45l-7.72 7.72c-.78.78-.78 2.05 0 2.83L4 21.41c.39.39.9.59 1.41.59.51 0 1.02-.2 1.41-.59l7.78-7.78 2.81-2.81c.8-.78.8-2.07 0-2.86zM5.41 20L4 18.59l7.72-7.72 1.47 1.35L5.41 20z\"/>\n",
              "  </svg>\n",
              "      </button>\n",
              "      \n",
              "  <style>\n",
              "    .colab-df-container {\n",
              "      display:flex;\n",
              "      flex-wrap:wrap;\n",
              "      gap: 12px;\n",
              "    }\n",
              "\n",
              "    .colab-df-convert {\n",
              "      background-color: #E8F0FE;\n",
              "      border: none;\n",
              "      border-radius: 50%;\n",
              "      cursor: pointer;\n",
              "      display: none;\n",
              "      fill: #1967D2;\n",
              "      height: 32px;\n",
              "      padding: 0 0 0 0;\n",
              "      width: 32px;\n",
              "    }\n",
              "\n",
              "    .colab-df-convert:hover {\n",
              "      background-color: #E2EBFA;\n",
              "      box-shadow: 0px 1px 2px rgba(60, 64, 67, 0.3), 0px 1px 3px 1px rgba(60, 64, 67, 0.15);\n",
              "      fill: #174EA6;\n",
              "    }\n",
              "\n",
              "    [theme=dark] .colab-df-convert {\n",
              "      background-color: #3B4455;\n",
              "      fill: #D2E3FC;\n",
              "    }\n",
              "\n",
              "    [theme=dark] .colab-df-convert:hover {\n",
              "      background-color: #434B5C;\n",
              "      box-shadow: 0px 1px 3px 1px rgba(0, 0, 0, 0.15);\n",
              "      filter: drop-shadow(0px 1px 2px rgba(0, 0, 0, 0.3));\n",
              "      fill: #FFFFFF;\n",
              "    }\n",
              "  </style>\n",
              "\n",
              "      <script>\n",
              "        const buttonEl =\n",
              "          document.querySelector('#df-e2462cb9-1077-4a3c-bd1b-2acd77e64cb6 button.colab-df-convert');\n",
              "        buttonEl.style.display =\n",
              "          google.colab.kernel.accessAllowed ? 'block' : 'none';\n",
              "\n",
              "        async function convertToInteractive(key) {\n",
              "          const element = document.querySelector('#df-e2462cb9-1077-4a3c-bd1b-2acd77e64cb6');\n",
              "          const dataTable =\n",
              "            await google.colab.kernel.invokeFunction('convertToInteractive',\n",
              "                                                     [key], {});\n",
              "          if (!dataTable) return;\n",
              "\n",
              "          const docLinkHtml = 'Like what you see? Visit the ' +\n",
              "            '<a target=\"_blank\" href=https://colab.research.google.com/notebooks/data_table.ipynb>data table notebook</a>'\n",
              "            + ' to learn more about interactive tables.';\n",
              "          element.innerHTML = '';\n",
              "          dataTable['output_type'] = 'display_data';\n",
              "          await google.colab.output.renderOutput(dataTable, element);\n",
              "          const docLink = document.createElement('div');\n",
              "          docLink.innerHTML = docLinkHtml;\n",
              "          element.appendChild(docLink);\n",
              "        }\n",
              "      </script>\n",
              "    </div>\n",
              "  </div>\n",
              "  "
            ]
          },
          "metadata": {},
          "execution_count": 198
        }
      ]
    },
    {
      "cell_type": "code",
      "metadata": {
        "id": "1nBN_BCDWSmv",
        "outputId": "ad00f8e0-961f-4e69-8475-3703d842f028",
        "colab": {
          "base_uri": "https://localhost:8080/"
        }
      },
      "source": [
        "df_phones.shape"
      ],
      "execution_count": null,
      "outputs": [
        {
          "output_type": "execute_result",
          "data": {
            "text/plain": [
              "(2647, 9)"
            ]
          },
          "metadata": {},
          "execution_count": 199
        }
      ]
    },
    {
      "cell_type": "code",
      "metadata": {
        "id": "yB8t6o0wH7If",
        "outputId": "fef67cb6-fecc-4374-a649-df11a0b90223",
        "colab": {
          "base_uri": "https://localhost:8080/"
        }
      },
      "source": [
        "duplicate_rows_df = df_phones[df_phones.duplicated()]\n",
        "print(\"number of duplicate rows: \", duplicate_rows_df.shape)"
      ],
      "execution_count": null,
      "outputs": [
        {
          "output_type": "stream",
          "name": "stdout",
          "text": [
            "number of duplicate rows:  (107, 9)\n"
          ]
        }
      ]
    },
    {
      "cell_type": "code",
      "metadata": {
        "id": "kuobmetTV820",
        "outputId": "ee2e1910-5abd-4a82-e3a4-a5170426f87d",
        "colab": {
          "base_uri": "https://localhost:8080/"
        }
      },
      "source": [
        "df_phones.count()"
      ],
      "execution_count": null,
      "outputs": [
        {
          "output_type": "execute_result",
          "data": {
            "text/plain": [
              "Brand             2647\n",
              "Model             2645\n",
              "Color             2505\n",
              "Memory            2605\n",
              "Storage           2568\n",
              "Rating            2647\n",
              "Selling Price     2644\n",
              "Original Price     969\n",
              "Name              2647\n",
              "dtype: int64"
            ]
          },
          "metadata": {},
          "execution_count": 201
        }
      ]
    },
    {
      "cell_type": "code",
      "metadata": {
        "id": "OiOsEF6WVTSj",
        "outputId": "9197feb3-73ae-42da-f98e-e4e696946608",
        "colab": {
          "base_uri": "https://localhost:8080/",
          "height": 424
        }
      },
      "source": [
        "df_phones = df_phones.drop_duplicates()\n",
        "df_phones"
      ],
      "execution_count": null,
      "outputs": [
        {
          "output_type": "execute_result",
          "data": {
            "text/plain": [
              "       Brand      Model            Color Memory Storage  Rating  \\\n",
              "0       OPPO        A53  Moonlight Black   4 GB   64 GB     4.5   \n",
              "1       OPPO        A53       Mint Cream   4 GB   64 GB     4.5   \n",
              "2       OPPO        A53  Moonlight Black   6 GB  128 GB     4.3   \n",
              "3       OPPO        A53       Mint Cream   6 GB  128 GB     4.3   \n",
              "4       OPPO        A53   Electric Black   4 GB   64 GB     4.5   \n",
              "...      ...        ...              ...    ...     ...     ...   \n",
              "2642  Xiaomi  Redmi Y3          Bold Red   4 GB   64 GB     4.3   \n",
              "2643  Xiaomi  Redmi Y3      Elegant Blue   3 GB   32 GB     4.3   \n",
              "2644  Xiaomi  Redmi Y3      Elegant Blue   4 GB   64 GB     4.2   \n",
              "2645  Xiaomi  Redmi Y3       Prime Black   3 GB   32 GB     4.2   \n",
              "2646  Xiaomi  Redmi Y3       Prime Black   4 GB   64 GB     4.3   \n",
              "\n",
              "      Selling Price  Original Price              Name  \n",
              "0           11990.0         15990.0          OPPO A53  \n",
              "1           11990.0         15990.0          OPPO A53  \n",
              "2           13990.0         17990.0          OPPO A53  \n",
              "3           13990.0         17990.0          OPPO A53  \n",
              "4           11990.0         15990.0          OPPO A53  \n",
              "...             ...             ...               ...  \n",
              "2642        12999.0         13999.0  Xiaomi Redmi Y3   \n",
              "2643         9450.0             NaN  Xiaomi Redmi Y3   \n",
              "2644        12999.0             NaN  Xiaomi Redmi Y3   \n",
              "2645         9950.0             NaN  Xiaomi Redmi Y3   \n",
              "2646        12499.0         13999.0  Xiaomi Redmi Y3   \n",
              "\n",
              "[2540 rows x 9 columns]"
            ],
            "text/html": [
              "\n",
              "  <div id=\"df-caa684f6-28e6-46e4-9054-759e8b249721\">\n",
              "    <div class=\"colab-df-container\">\n",
              "      <div>\n",
              "<style scoped>\n",
              "    .dataframe tbody tr th:only-of-type {\n",
              "        vertical-align: middle;\n",
              "    }\n",
              "\n",
              "    .dataframe tbody tr th {\n",
              "        vertical-align: top;\n",
              "    }\n",
              "\n",
              "    .dataframe thead th {\n",
              "        text-align: right;\n",
              "    }\n",
              "</style>\n",
              "<table border=\"1\" class=\"dataframe\">\n",
              "  <thead>\n",
              "    <tr style=\"text-align: right;\">\n",
              "      <th></th>\n",
              "      <th>Brand</th>\n",
              "      <th>Model</th>\n",
              "      <th>Color</th>\n",
              "      <th>Memory</th>\n",
              "      <th>Storage</th>\n",
              "      <th>Rating</th>\n",
              "      <th>Selling Price</th>\n",
              "      <th>Original Price</th>\n",
              "      <th>Name</th>\n",
              "    </tr>\n",
              "  </thead>\n",
              "  <tbody>\n",
              "    <tr>\n",
              "      <th>0</th>\n",
              "      <td>OPPO</td>\n",
              "      <td>A53</td>\n",
              "      <td>Moonlight Black</td>\n",
              "      <td>4 GB</td>\n",
              "      <td>64 GB</td>\n",
              "      <td>4.5</td>\n",
              "      <td>11990.0</td>\n",
              "      <td>15990.0</td>\n",
              "      <td>OPPO A53</td>\n",
              "    </tr>\n",
              "    <tr>\n",
              "      <th>1</th>\n",
              "      <td>OPPO</td>\n",
              "      <td>A53</td>\n",
              "      <td>Mint Cream</td>\n",
              "      <td>4 GB</td>\n",
              "      <td>64 GB</td>\n",
              "      <td>4.5</td>\n",
              "      <td>11990.0</td>\n",
              "      <td>15990.0</td>\n",
              "      <td>OPPO A53</td>\n",
              "    </tr>\n",
              "    <tr>\n",
              "      <th>2</th>\n",
              "      <td>OPPO</td>\n",
              "      <td>A53</td>\n",
              "      <td>Moonlight Black</td>\n",
              "      <td>6 GB</td>\n",
              "      <td>128 GB</td>\n",
              "      <td>4.3</td>\n",
              "      <td>13990.0</td>\n",
              "      <td>17990.0</td>\n",
              "      <td>OPPO A53</td>\n",
              "    </tr>\n",
              "    <tr>\n",
              "      <th>3</th>\n",
              "      <td>OPPO</td>\n",
              "      <td>A53</td>\n",
              "      <td>Mint Cream</td>\n",
              "      <td>6 GB</td>\n",
              "      <td>128 GB</td>\n",
              "      <td>4.3</td>\n",
              "      <td>13990.0</td>\n",
              "      <td>17990.0</td>\n",
              "      <td>OPPO A53</td>\n",
              "    </tr>\n",
              "    <tr>\n",
              "      <th>4</th>\n",
              "      <td>OPPO</td>\n",
              "      <td>A53</td>\n",
              "      <td>Electric Black</td>\n",
              "      <td>4 GB</td>\n",
              "      <td>64 GB</td>\n",
              "      <td>4.5</td>\n",
              "      <td>11990.0</td>\n",
              "      <td>15990.0</td>\n",
              "      <td>OPPO A53</td>\n",
              "    </tr>\n",
              "    <tr>\n",
              "      <th>...</th>\n",
              "      <td>...</td>\n",
              "      <td>...</td>\n",
              "      <td>...</td>\n",
              "      <td>...</td>\n",
              "      <td>...</td>\n",
              "      <td>...</td>\n",
              "      <td>...</td>\n",
              "      <td>...</td>\n",
              "      <td>...</td>\n",
              "    </tr>\n",
              "    <tr>\n",
              "      <th>2642</th>\n",
              "      <td>Xiaomi</td>\n",
              "      <td>Redmi Y3</td>\n",
              "      <td>Bold Red</td>\n",
              "      <td>4 GB</td>\n",
              "      <td>64 GB</td>\n",
              "      <td>4.3</td>\n",
              "      <td>12999.0</td>\n",
              "      <td>13999.0</td>\n",
              "      <td>Xiaomi Redmi Y3</td>\n",
              "    </tr>\n",
              "    <tr>\n",
              "      <th>2643</th>\n",
              "      <td>Xiaomi</td>\n",
              "      <td>Redmi Y3</td>\n",
              "      <td>Elegant Blue</td>\n",
              "      <td>3 GB</td>\n",
              "      <td>32 GB</td>\n",
              "      <td>4.3</td>\n",
              "      <td>9450.0</td>\n",
              "      <td>NaN</td>\n",
              "      <td>Xiaomi Redmi Y3</td>\n",
              "    </tr>\n",
              "    <tr>\n",
              "      <th>2644</th>\n",
              "      <td>Xiaomi</td>\n",
              "      <td>Redmi Y3</td>\n",
              "      <td>Elegant Blue</td>\n",
              "      <td>4 GB</td>\n",
              "      <td>64 GB</td>\n",
              "      <td>4.2</td>\n",
              "      <td>12999.0</td>\n",
              "      <td>NaN</td>\n",
              "      <td>Xiaomi Redmi Y3</td>\n",
              "    </tr>\n",
              "    <tr>\n",
              "      <th>2645</th>\n",
              "      <td>Xiaomi</td>\n",
              "      <td>Redmi Y3</td>\n",
              "      <td>Prime Black</td>\n",
              "      <td>3 GB</td>\n",
              "      <td>32 GB</td>\n",
              "      <td>4.2</td>\n",
              "      <td>9950.0</td>\n",
              "      <td>NaN</td>\n",
              "      <td>Xiaomi Redmi Y3</td>\n",
              "    </tr>\n",
              "    <tr>\n",
              "      <th>2646</th>\n",
              "      <td>Xiaomi</td>\n",
              "      <td>Redmi Y3</td>\n",
              "      <td>Prime Black</td>\n",
              "      <td>4 GB</td>\n",
              "      <td>64 GB</td>\n",
              "      <td>4.3</td>\n",
              "      <td>12499.0</td>\n",
              "      <td>13999.0</td>\n",
              "      <td>Xiaomi Redmi Y3</td>\n",
              "    </tr>\n",
              "  </tbody>\n",
              "</table>\n",
              "<p>2540 rows × 9 columns</p>\n",
              "</div>\n",
              "      <button class=\"colab-df-convert\" onclick=\"convertToInteractive('df-caa684f6-28e6-46e4-9054-759e8b249721')\"\n",
              "              title=\"Convert this dataframe to an interactive table.\"\n",
              "              style=\"display:none;\">\n",
              "        \n",
              "  <svg xmlns=\"http://www.w3.org/2000/svg\" height=\"24px\"viewBox=\"0 0 24 24\"\n",
              "       width=\"24px\">\n",
              "    <path d=\"M0 0h24v24H0V0z\" fill=\"none\"/>\n",
              "    <path d=\"M18.56 5.44l.94 2.06.94-2.06 2.06-.94-2.06-.94-.94-2.06-.94 2.06-2.06.94zm-11 1L8.5 8.5l.94-2.06 2.06-.94-2.06-.94L8.5 2.5l-.94 2.06-2.06.94zm10 10l.94 2.06.94-2.06 2.06-.94-2.06-.94-.94-2.06-.94 2.06-2.06.94z\"/><path d=\"M17.41 7.96l-1.37-1.37c-.4-.4-.92-.59-1.43-.59-.52 0-1.04.2-1.43.59L10.3 9.45l-7.72 7.72c-.78.78-.78 2.05 0 2.83L4 21.41c.39.39.9.59 1.41.59.51 0 1.02-.2 1.41-.59l7.78-7.78 2.81-2.81c.8-.78.8-2.07 0-2.86zM5.41 20L4 18.59l7.72-7.72 1.47 1.35L5.41 20z\"/>\n",
              "  </svg>\n",
              "      </button>\n",
              "      \n",
              "  <style>\n",
              "    .colab-df-container {\n",
              "      display:flex;\n",
              "      flex-wrap:wrap;\n",
              "      gap: 12px;\n",
              "    }\n",
              "\n",
              "    .colab-df-convert {\n",
              "      background-color: #E8F0FE;\n",
              "      border: none;\n",
              "      border-radius: 50%;\n",
              "      cursor: pointer;\n",
              "      display: none;\n",
              "      fill: #1967D2;\n",
              "      height: 32px;\n",
              "      padding: 0 0 0 0;\n",
              "      width: 32px;\n",
              "    }\n",
              "\n",
              "    .colab-df-convert:hover {\n",
              "      background-color: #E2EBFA;\n",
              "      box-shadow: 0px 1px 2px rgba(60, 64, 67, 0.3), 0px 1px 3px 1px rgba(60, 64, 67, 0.15);\n",
              "      fill: #174EA6;\n",
              "    }\n",
              "\n",
              "    [theme=dark] .colab-df-convert {\n",
              "      background-color: #3B4455;\n",
              "      fill: #D2E3FC;\n",
              "    }\n",
              "\n",
              "    [theme=dark] .colab-df-convert:hover {\n",
              "      background-color: #434B5C;\n",
              "      box-shadow: 0px 1px 3px 1px rgba(0, 0, 0, 0.15);\n",
              "      filter: drop-shadow(0px 1px 2px rgba(0, 0, 0, 0.3));\n",
              "      fill: #FFFFFF;\n",
              "    }\n",
              "  </style>\n",
              "\n",
              "      <script>\n",
              "        const buttonEl =\n",
              "          document.querySelector('#df-caa684f6-28e6-46e4-9054-759e8b249721 button.colab-df-convert');\n",
              "        buttonEl.style.display =\n",
              "          google.colab.kernel.accessAllowed ? 'block' : 'none';\n",
              "\n",
              "        async function convertToInteractive(key) {\n",
              "          const element = document.querySelector('#df-caa684f6-28e6-46e4-9054-759e8b249721');\n",
              "          const dataTable =\n",
              "            await google.colab.kernel.invokeFunction('convertToInteractive',\n",
              "                                                     [key], {});\n",
              "          if (!dataTable) return;\n",
              "\n",
              "          const docLinkHtml = 'Like what you see? Visit the ' +\n",
              "            '<a target=\"_blank\" href=https://colab.research.google.com/notebooks/data_table.ipynb>data table notebook</a>'\n",
              "            + ' to learn more about interactive tables.';\n",
              "          element.innerHTML = '';\n",
              "          dataTable['output_type'] = 'display_data';\n",
              "          await google.colab.output.renderOutput(dataTable, element);\n",
              "          const docLink = document.createElement('div');\n",
              "          docLink.innerHTML = docLinkHtml;\n",
              "          element.appendChild(docLink);\n",
              "        }\n",
              "      </script>\n",
              "    </div>\n",
              "  </div>\n",
              "  "
            ]
          },
          "metadata": {},
          "execution_count": 202
        }
      ]
    },
    {
      "cell_type": "code",
      "metadata": {
        "id": "2gMM4lb0Vzor",
        "outputId": "61d65d18-fedd-4126-83b8-5ed7de5220e4",
        "colab": {
          "base_uri": "https://localhost:8080/"
        }
      },
      "source": [
        "df_phones.count()"
      ],
      "execution_count": null,
      "outputs": [
        {
          "output_type": "execute_result",
          "data": {
            "text/plain": [
              "Brand             2540\n",
              "Model             2538\n",
              "Color             2407\n",
              "Memory            2501\n",
              "Storage           2463\n",
              "Rating            2540\n",
              "Selling Price     2537\n",
              "Original Price     934\n",
              "Name              2540\n",
              "dtype: int64"
            ]
          },
          "metadata": {},
          "execution_count": 203
        }
      ]
    },
    {
      "cell_type": "code",
      "metadata": {
        "id": "Tzdlg-1OWjMz",
        "outputId": "cf8686fc-43be-4186-d1c4-9e3d6ff59053",
        "colab": {
          "base_uri": "https://localhost:8080/"
        }
      },
      "source": [
        "print(df_phones.isnull().sum())"
      ],
      "execution_count": null,
      "outputs": [
        {
          "output_type": "stream",
          "name": "stdout",
          "text": [
            "Brand                0\n",
            "Model                2\n",
            "Color              133\n",
            "Memory              39\n",
            "Storage             77\n",
            "Rating               0\n",
            "Selling Price        3\n",
            "Original Price    1606\n",
            "Name                 0\n",
            "dtype: int64\n"
          ]
        }
      ]
    },
    {
      "cell_type": "code",
      "metadata": {
        "id": "KbbV0xHPWoad",
        "outputId": "21aa96bb-67c7-48d9-dc0e-04e6124a7c4e",
        "colab": {
          "base_uri": "https://localhost:8080/"
        }
      },
      "source": [
        "df_phones = df_phones.dropna(subset=[\"Model\", \"Memory\",\"Storage\"])\n",
        "df_phones[\"Selling Price\"] = df_phones[\"Selling Price\"].fillna(df_phones[\"Original Price\"])\n",
        "df_phones[\"Original Price\"] = df_phones[\"Original Price\"].fillna(df_phones[\"Selling Price\"])\n",
        "df_phones= df_phones.dropna(subset=[\"Original Price\",\"Selling Price\"])\n",
        "df_phones[\"Color\"] = df_phones[\"Color\"].fillna(\"Base\")"
      ],
      "execution_count": null,
      "outputs": [
        {
          "output_type": "stream",
          "name": "stderr",
          "text": [
            "/usr/local/lib/python3.7/dist-packages/ipykernel_launcher.py:2: SettingWithCopyWarning: \n",
            "A value is trying to be set on a copy of a slice from a DataFrame.\n",
            "Try using .loc[row_indexer,col_indexer] = value instead\n",
            "\n",
            "See the caveats in the documentation: https://pandas.pydata.org/pandas-docs/stable/user_guide/indexing.html#returning-a-view-versus-a-copy\n",
            "  \n",
            "/usr/local/lib/python3.7/dist-packages/ipykernel_launcher.py:3: SettingWithCopyWarning: \n",
            "A value is trying to be set on a copy of a slice from a DataFrame.\n",
            "Try using .loc[row_indexer,col_indexer] = value instead\n",
            "\n",
            "See the caveats in the documentation: https://pandas.pydata.org/pandas-docs/stable/user_guide/indexing.html#returning-a-view-versus-a-copy\n",
            "  This is separate from the ipykernel package so we can avoid doing imports until\n"
          ]
        }
      ]
    },
    {
      "cell_type": "code",
      "metadata": {
        "id": "V-DmX1O4Wtox",
        "outputId": "991a6dd0-b8cc-4233-9bae-a94ce54f0630",
        "colab": {
          "base_uri": "https://localhost:8080/"
        }
      },
      "source": [
        "print(df_phones.isnull().sum())"
      ],
      "execution_count": null,
      "outputs": [
        {
          "output_type": "stream",
          "name": "stdout",
          "text": [
            "Brand             0\n",
            "Model             0\n",
            "Color             0\n",
            "Memory            0\n",
            "Storage           0\n",
            "Rating            0\n",
            "Selling Price     0\n",
            "Original Price    0\n",
            "Name              0\n",
            "dtype: int64\n"
          ]
        }
      ]
    },
    {
      "cell_type": "code",
      "source": [
        "df_phones = df_phones[df_phones['Memory'].str.endswith('GB')]\n",
        "df_phones['Memory'] = df_phones['Memory'].str.replace('GB', '').astype(float)\n",
        "df_phones = df_phones[df_phones['Storage'].str.contains('^[0-9].*GB$')]\n",
        "df_phones['Storage'] = df_phones['Storage'].str.replace('GB', '').astype(float)\n",
        "df_phones = df_phones[df_phones['Rating'] > 0]"
      ],
      "metadata": {
        "id": "AA6zshnCwsF2",
        "colab": {
          "base_uri": "https://localhost:8080/"
        },
        "outputId": "623a46c0-89d7-45b0-976e-0dc7e07682d5"
      },
      "execution_count": null,
      "outputs": [
        {
          "output_type": "stream",
          "name": "stderr",
          "text": [
            "/usr/local/lib/python3.7/dist-packages/ipykernel_launcher.py:2: SettingWithCopyWarning: \n",
            "A value is trying to be set on a copy of a slice from a DataFrame.\n",
            "Try using .loc[row_indexer,col_indexer] = value instead\n",
            "\n",
            "See the caveats in the documentation: https://pandas.pydata.org/pandas-docs/stable/user_guide/indexing.html#returning-a-view-versus-a-copy\n",
            "  \n"
          ]
        }
      ]
    },
    {
      "cell_type": "code",
      "source": [
        "df_phones.describe()"
      ],
      "metadata": {
        "colab": {
          "base_uri": "https://localhost:8080/",
          "height": 300
        },
        "id": "sHVY5H44eMs1",
        "outputId": "52e69860-08dc-49b1-b730-19fa037eb334"
      },
      "execution_count": null,
      "outputs": [
        {
          "output_type": "execute_result",
          "data": {
            "text/plain": [
              "            Memory      Storage       Rating  Selling Price  Original Price\n",
              "count  2189.000000  2189.000000  2189.000000    2189.000000     2189.000000\n",
              "mean      4.162403    83.641846     4.236912   24820.741434    26979.160347\n",
              "std       2.261424    80.937489     0.269112   24506.682891    26858.042082\n",
              "min       0.500000     4.000000     2.300000    2799.000000     2799.000000\n",
              "25%       3.000000    32.000000     4.100000    9999.000000    10999.000000\n",
              "50%       4.000000    64.000000     4.300000   15490.000000    16990.000000\n",
              "75%       6.000000   128.000000     4.400000   27999.000000    30780.000000\n",
              "max      16.000000   512.000000     5.000000  157999.000000   189999.000000"
            ],
            "text/html": [
              "\n",
              "  <div id=\"df-15e0f015-a4f1-4802-9bb7-0b17ae7d9035\">\n",
              "    <div class=\"colab-df-container\">\n",
              "      <div>\n",
              "<style scoped>\n",
              "    .dataframe tbody tr th:only-of-type {\n",
              "        vertical-align: middle;\n",
              "    }\n",
              "\n",
              "    .dataframe tbody tr th {\n",
              "        vertical-align: top;\n",
              "    }\n",
              "\n",
              "    .dataframe thead th {\n",
              "        text-align: right;\n",
              "    }\n",
              "</style>\n",
              "<table border=\"1\" class=\"dataframe\">\n",
              "  <thead>\n",
              "    <tr style=\"text-align: right;\">\n",
              "      <th></th>\n",
              "      <th>Memory</th>\n",
              "      <th>Storage</th>\n",
              "      <th>Rating</th>\n",
              "      <th>Selling Price</th>\n",
              "      <th>Original Price</th>\n",
              "    </tr>\n",
              "  </thead>\n",
              "  <tbody>\n",
              "    <tr>\n",
              "      <th>count</th>\n",
              "      <td>2189.000000</td>\n",
              "      <td>2189.000000</td>\n",
              "      <td>2189.000000</td>\n",
              "      <td>2189.000000</td>\n",
              "      <td>2189.000000</td>\n",
              "    </tr>\n",
              "    <tr>\n",
              "      <th>mean</th>\n",
              "      <td>4.162403</td>\n",
              "      <td>83.641846</td>\n",
              "      <td>4.236912</td>\n",
              "      <td>24820.741434</td>\n",
              "      <td>26979.160347</td>\n",
              "    </tr>\n",
              "    <tr>\n",
              "      <th>std</th>\n",
              "      <td>2.261424</td>\n",
              "      <td>80.937489</td>\n",
              "      <td>0.269112</td>\n",
              "      <td>24506.682891</td>\n",
              "      <td>26858.042082</td>\n",
              "    </tr>\n",
              "    <tr>\n",
              "      <th>min</th>\n",
              "      <td>0.500000</td>\n",
              "      <td>4.000000</td>\n",
              "      <td>2.300000</td>\n",
              "      <td>2799.000000</td>\n",
              "      <td>2799.000000</td>\n",
              "    </tr>\n",
              "    <tr>\n",
              "      <th>25%</th>\n",
              "      <td>3.000000</td>\n",
              "      <td>32.000000</td>\n",
              "      <td>4.100000</td>\n",
              "      <td>9999.000000</td>\n",
              "      <td>10999.000000</td>\n",
              "    </tr>\n",
              "    <tr>\n",
              "      <th>50%</th>\n",
              "      <td>4.000000</td>\n",
              "      <td>64.000000</td>\n",
              "      <td>4.300000</td>\n",
              "      <td>15490.000000</td>\n",
              "      <td>16990.000000</td>\n",
              "    </tr>\n",
              "    <tr>\n",
              "      <th>75%</th>\n",
              "      <td>6.000000</td>\n",
              "      <td>128.000000</td>\n",
              "      <td>4.400000</td>\n",
              "      <td>27999.000000</td>\n",
              "      <td>30780.000000</td>\n",
              "    </tr>\n",
              "    <tr>\n",
              "      <th>max</th>\n",
              "      <td>16.000000</td>\n",
              "      <td>512.000000</td>\n",
              "      <td>5.000000</td>\n",
              "      <td>157999.000000</td>\n",
              "      <td>189999.000000</td>\n",
              "    </tr>\n",
              "  </tbody>\n",
              "</table>\n",
              "</div>\n",
              "      <button class=\"colab-df-convert\" onclick=\"convertToInteractive('df-15e0f015-a4f1-4802-9bb7-0b17ae7d9035')\"\n",
              "              title=\"Convert this dataframe to an interactive table.\"\n",
              "              style=\"display:none;\">\n",
              "        \n",
              "  <svg xmlns=\"http://www.w3.org/2000/svg\" height=\"24px\"viewBox=\"0 0 24 24\"\n",
              "       width=\"24px\">\n",
              "    <path d=\"M0 0h24v24H0V0z\" fill=\"none\"/>\n",
              "    <path d=\"M18.56 5.44l.94 2.06.94-2.06 2.06-.94-2.06-.94-.94-2.06-.94 2.06-2.06.94zm-11 1L8.5 8.5l.94-2.06 2.06-.94-2.06-.94L8.5 2.5l-.94 2.06-2.06.94zm10 10l.94 2.06.94-2.06 2.06-.94-2.06-.94-.94-2.06-.94 2.06-2.06.94z\"/><path d=\"M17.41 7.96l-1.37-1.37c-.4-.4-.92-.59-1.43-.59-.52 0-1.04.2-1.43.59L10.3 9.45l-7.72 7.72c-.78.78-.78 2.05 0 2.83L4 21.41c.39.39.9.59 1.41.59.51 0 1.02-.2 1.41-.59l7.78-7.78 2.81-2.81c.8-.78.8-2.07 0-2.86zM5.41 20L4 18.59l7.72-7.72 1.47 1.35L5.41 20z\"/>\n",
              "  </svg>\n",
              "      </button>\n",
              "      \n",
              "  <style>\n",
              "    .colab-df-container {\n",
              "      display:flex;\n",
              "      flex-wrap:wrap;\n",
              "      gap: 12px;\n",
              "    }\n",
              "\n",
              "    .colab-df-convert {\n",
              "      background-color: #E8F0FE;\n",
              "      border: none;\n",
              "      border-radius: 50%;\n",
              "      cursor: pointer;\n",
              "      display: none;\n",
              "      fill: #1967D2;\n",
              "      height: 32px;\n",
              "      padding: 0 0 0 0;\n",
              "      width: 32px;\n",
              "    }\n",
              "\n",
              "    .colab-df-convert:hover {\n",
              "      background-color: #E2EBFA;\n",
              "      box-shadow: 0px 1px 2px rgba(60, 64, 67, 0.3), 0px 1px 3px 1px rgba(60, 64, 67, 0.15);\n",
              "      fill: #174EA6;\n",
              "    }\n",
              "\n",
              "    [theme=dark] .colab-df-convert {\n",
              "      background-color: #3B4455;\n",
              "      fill: #D2E3FC;\n",
              "    }\n",
              "\n",
              "    [theme=dark] .colab-df-convert:hover {\n",
              "      background-color: #434B5C;\n",
              "      box-shadow: 0px 1px 3px 1px rgba(0, 0, 0, 0.15);\n",
              "      filter: drop-shadow(0px 1px 2px rgba(0, 0, 0, 0.3));\n",
              "      fill: #FFFFFF;\n",
              "    }\n",
              "  </style>\n",
              "\n",
              "      <script>\n",
              "        const buttonEl =\n",
              "          document.querySelector('#df-15e0f015-a4f1-4802-9bb7-0b17ae7d9035 button.colab-df-convert');\n",
              "        buttonEl.style.display =\n",
              "          google.colab.kernel.accessAllowed ? 'block' : 'none';\n",
              "\n",
              "        async function convertToInteractive(key) {\n",
              "          const element = document.querySelector('#df-15e0f015-a4f1-4802-9bb7-0b17ae7d9035');\n",
              "          const dataTable =\n",
              "            await google.colab.kernel.invokeFunction('convertToInteractive',\n",
              "                                                     [key], {});\n",
              "          if (!dataTable) return;\n",
              "\n",
              "          const docLinkHtml = 'Like what you see? Visit the ' +\n",
              "            '<a target=\"_blank\" href=https://colab.research.google.com/notebooks/data_table.ipynb>data table notebook</a>'\n",
              "            + ' to learn more about interactive tables.';\n",
              "          element.innerHTML = '';\n",
              "          dataTable['output_type'] = 'display_data';\n",
              "          await google.colab.output.renderOutput(dataTable, element);\n",
              "          const docLink = document.createElement('div');\n",
              "          docLink.innerHTML = docLinkHtml;\n",
              "          element.appendChild(docLink);\n",
              "        }\n",
              "      </script>\n",
              "    </div>\n",
              "  </div>\n",
              "  "
            ]
          },
          "metadata": {},
          "execution_count": 208
        }
      ]
    },
    {
      "cell_type": "code",
      "source": [
        "plt.figure(figsize=(10, 5))\n",
        "c = df_phones.corr()\n",
        "sns.heatmap(c,cmap=\"BrBG\",annot=True)\n",
        "c"
      ],
      "metadata": {
        "colab": {
          "base_uri": "https://localhost:8080/",
          "height": 513
        },
        "id": "kUDk9-xvuWw-",
        "outputId": "4fefb1fa-3493-4bf3-8ecf-0aa3fc986a59"
      },
      "execution_count": null,
      "outputs": [
        {
          "output_type": "execute_result",
          "data": {
            "text/plain": [
              "                  Memory   Storage    Rating  Selling Price  Original Price\n",
              "Memory          1.000000  0.629071  0.321410       0.320008        0.358150\n",
              "Storage         0.629071  1.000000  0.436402       0.691371        0.681705\n",
              "Rating          0.321410  0.436402  1.000000       0.452775        0.437401\n",
              "Selling Price   0.320008  0.691371  0.452775       1.000000        0.976003\n",
              "Original Price  0.358150  0.681705  0.437401       0.976003        1.000000"
            ],
            "text/html": [
              "\n",
              "  <div id=\"df-f0f8e794-f8d1-4e88-8e16-c8bc8a7a0285\">\n",
              "    <div class=\"colab-df-container\">\n",
              "      <div>\n",
              "<style scoped>\n",
              "    .dataframe tbody tr th:only-of-type {\n",
              "        vertical-align: middle;\n",
              "    }\n",
              "\n",
              "    .dataframe tbody tr th {\n",
              "        vertical-align: top;\n",
              "    }\n",
              "\n",
              "    .dataframe thead th {\n",
              "        text-align: right;\n",
              "    }\n",
              "</style>\n",
              "<table border=\"1\" class=\"dataframe\">\n",
              "  <thead>\n",
              "    <tr style=\"text-align: right;\">\n",
              "      <th></th>\n",
              "      <th>Memory</th>\n",
              "      <th>Storage</th>\n",
              "      <th>Rating</th>\n",
              "      <th>Selling Price</th>\n",
              "      <th>Original Price</th>\n",
              "    </tr>\n",
              "  </thead>\n",
              "  <tbody>\n",
              "    <tr>\n",
              "      <th>Memory</th>\n",
              "      <td>1.000000</td>\n",
              "      <td>0.629071</td>\n",
              "      <td>0.321410</td>\n",
              "      <td>0.320008</td>\n",
              "      <td>0.358150</td>\n",
              "    </tr>\n",
              "    <tr>\n",
              "      <th>Storage</th>\n",
              "      <td>0.629071</td>\n",
              "      <td>1.000000</td>\n",
              "      <td>0.436402</td>\n",
              "      <td>0.691371</td>\n",
              "      <td>0.681705</td>\n",
              "    </tr>\n",
              "    <tr>\n",
              "      <th>Rating</th>\n",
              "      <td>0.321410</td>\n",
              "      <td>0.436402</td>\n",
              "      <td>1.000000</td>\n",
              "      <td>0.452775</td>\n",
              "      <td>0.437401</td>\n",
              "    </tr>\n",
              "    <tr>\n",
              "      <th>Selling Price</th>\n",
              "      <td>0.320008</td>\n",
              "      <td>0.691371</td>\n",
              "      <td>0.452775</td>\n",
              "      <td>1.000000</td>\n",
              "      <td>0.976003</td>\n",
              "    </tr>\n",
              "    <tr>\n",
              "      <th>Original Price</th>\n",
              "      <td>0.358150</td>\n",
              "      <td>0.681705</td>\n",
              "      <td>0.437401</td>\n",
              "      <td>0.976003</td>\n",
              "      <td>1.000000</td>\n",
              "    </tr>\n",
              "  </tbody>\n",
              "</table>\n",
              "</div>\n",
              "      <button class=\"colab-df-convert\" onclick=\"convertToInteractive('df-f0f8e794-f8d1-4e88-8e16-c8bc8a7a0285')\"\n",
              "              title=\"Convert this dataframe to an interactive table.\"\n",
              "              style=\"display:none;\">\n",
              "        \n",
              "  <svg xmlns=\"http://www.w3.org/2000/svg\" height=\"24px\"viewBox=\"0 0 24 24\"\n",
              "       width=\"24px\">\n",
              "    <path d=\"M0 0h24v24H0V0z\" fill=\"none\"/>\n",
              "    <path d=\"M18.56 5.44l.94 2.06.94-2.06 2.06-.94-2.06-.94-.94-2.06-.94 2.06-2.06.94zm-11 1L8.5 8.5l.94-2.06 2.06-.94-2.06-.94L8.5 2.5l-.94 2.06-2.06.94zm10 10l.94 2.06.94-2.06 2.06-.94-2.06-.94-.94-2.06-.94 2.06-2.06.94z\"/><path d=\"M17.41 7.96l-1.37-1.37c-.4-.4-.92-.59-1.43-.59-.52 0-1.04.2-1.43.59L10.3 9.45l-7.72 7.72c-.78.78-.78 2.05 0 2.83L4 21.41c.39.39.9.59 1.41.59.51 0 1.02-.2 1.41-.59l7.78-7.78 2.81-2.81c.8-.78.8-2.07 0-2.86zM5.41 20L4 18.59l7.72-7.72 1.47 1.35L5.41 20z\"/>\n",
              "  </svg>\n",
              "      </button>\n",
              "      \n",
              "  <style>\n",
              "    .colab-df-container {\n",
              "      display:flex;\n",
              "      flex-wrap:wrap;\n",
              "      gap: 12px;\n",
              "    }\n",
              "\n",
              "    .colab-df-convert {\n",
              "      background-color: #E8F0FE;\n",
              "      border: none;\n",
              "      border-radius: 50%;\n",
              "      cursor: pointer;\n",
              "      display: none;\n",
              "      fill: #1967D2;\n",
              "      height: 32px;\n",
              "      padding: 0 0 0 0;\n",
              "      width: 32px;\n",
              "    }\n",
              "\n",
              "    .colab-df-convert:hover {\n",
              "      background-color: #E2EBFA;\n",
              "      box-shadow: 0px 1px 2px rgba(60, 64, 67, 0.3), 0px 1px 3px 1px rgba(60, 64, 67, 0.15);\n",
              "      fill: #174EA6;\n",
              "    }\n",
              "\n",
              "    [theme=dark] .colab-df-convert {\n",
              "      background-color: #3B4455;\n",
              "      fill: #D2E3FC;\n",
              "    }\n",
              "\n",
              "    [theme=dark] .colab-df-convert:hover {\n",
              "      background-color: #434B5C;\n",
              "      box-shadow: 0px 1px 3px 1px rgba(0, 0, 0, 0.15);\n",
              "      filter: drop-shadow(0px 1px 2px rgba(0, 0, 0, 0.3));\n",
              "      fill: #FFFFFF;\n",
              "    }\n",
              "  </style>\n",
              "\n",
              "      <script>\n",
              "        const buttonEl =\n",
              "          document.querySelector('#df-f0f8e794-f8d1-4e88-8e16-c8bc8a7a0285 button.colab-df-convert');\n",
              "        buttonEl.style.display =\n",
              "          google.colab.kernel.accessAllowed ? 'block' : 'none';\n",
              "\n",
              "        async function convertToInteractive(key) {\n",
              "          const element = document.querySelector('#df-f0f8e794-f8d1-4e88-8e16-c8bc8a7a0285');\n",
              "          const dataTable =\n",
              "            await google.colab.kernel.invokeFunction('convertToInteractive',\n",
              "                                                     [key], {});\n",
              "          if (!dataTable) return;\n",
              "\n",
              "          const docLinkHtml = 'Like what you see? Visit the ' +\n",
              "            '<a target=\"_blank\" href=https://colab.research.google.com/notebooks/data_table.ipynb>data table notebook</a>'\n",
              "            + ' to learn more about interactive tables.';\n",
              "          element.innerHTML = '';\n",
              "          dataTable['output_type'] = 'display_data';\n",
              "          await google.colab.output.renderOutput(dataTable, element);\n",
              "          const docLink = document.createElement('div');\n",
              "          docLink.innerHTML = docLinkHtml;\n",
              "          element.appendChild(docLink);\n",
              "        }\n",
              "      </script>\n",
              "    </div>\n",
              "  </div>\n",
              "  "
            ]
          },
          "metadata": {},
          "execution_count": 209
        },
        {
          "output_type": "display_data",
          "data": {
            "text/plain": [
              "<Figure size 720x360 with 2 Axes>"
            ],
            "image/png": "[encoded data removed]"
          },
          "metadata": {
            "needs_background": "light"
          }
        }
      ]
    },
    {
      "cell_type": "code",
      "source": [
        "fig, ax = plt.subplots(figsize=(20, 8))\n",
        "ax.scatter(df_phones['Selling Price'], df_phones['Storage'])\n",
        "ax.set_xlabel('Selling Price')\n",
        "ax.set_ylabel('Storage')\n",
        "plt.show()"
      ],
      "metadata": {
        "colab": {
          "base_uri": "https://localhost:8080/",
          "height": 497
        },
        "id": "_Eh9ntiH4RsK",
        "outputId": "5b966f1a-872b-462a-dbdd-82e72e67cb2f"
      },
      "execution_count": null,
      "outputs": [
        {
          "output_type": "display_data",
          "data": {
            "text/plain": [
              "<Figure size 1440x576 with 1 Axes>"
            ],
            "image/png": "[encoded data removed]"
          },
          "metadata": {
            "needs_background": "light"
          }
        }
      ]
    },
    {
      "cell_type": "code",
      "source": [
        "fig, ax = plt.subplots(figsize=(20, 8))\n",
        "ax.scatter(df_phones['Selling Price'], df_phones['Memory'])\n",
        "ax.set_xlabel('Selling Price')\n",
        "ax.set_ylabel('Memory')\n",
        "plt.show()"
      ],
      "metadata": {
        "colab": {
          "base_uri": "https://localhost:8080/",
          "height": 497
        },
        "id": "NgPY3On2CIwV",
        "outputId": "98240fa3-531b-4315-985a-d739ffc08e0b"
      },
      "execution_count": null,
      "outputs": [
        {
          "output_type": "display_data",
          "data": {
            "text/plain": [
              "<Figure size 1440x576 with 1 Axes>"
            ],
            "image/png": "[encoded data removed]"
          },
          "metadata": {
            "needs_background": "light"
          }
        }
      ]
    },
    {
      "cell_type": "code",
      "source": [
        "fig, ax = plt.subplots(figsize=(20, 8))\n",
        "ax.scatter(df_phones['Rating'], df_phones['Selling Price'])\n",
        "ax.set_xlabel('Rating')\n",
        "ax.set_ylabel('Selling Price')\n",
        "plt.show()"
      ],
      "metadata": {
        "colab": {
          "base_uri": "https://localhost:8080/",
          "height": 497
        },
        "id": "DZ_i74x7COxR",
        "outputId": "a6c3b910-567b-4ab0-ef40-ec4f6f6ff791"
      },
      "execution_count": null,
      "outputs": [
        {
          "output_type": "display_data",
          "data": {
            "text/plain": [
              "<Figure size 1440x576 with 1 Axes>"
            ],
            "image/png": "[encoded data removed]"
          },
          "metadata": {
            "needs_background": "light"
          }
        }
      ]
    },
    {
      "cell_type": "code",
      "source": [
        "fig, ax = plt.subplots(figsize=(20, 8))\n",
        "ax.scatter(df_phones['Memory'], df_phones['Storage'])\n",
        "ax.set_xlabel('Memory')\n",
        "ax.set_ylabel('Storage')\n",
        "plt.show()"
      ],
      "metadata": {
        "colab": {
          "base_uri": "https://localhost:8080/",
          "height": 497
        },
        "id": "1XU7lklNeZWj",
        "outputId": "e5034d72-73e8-4322-98f4-6210bdfc402a"
      },
      "execution_count": null,
      "outputs": [
        {
          "output_type": "display_data",
          "data": {
            "text/plain": [
              "<Figure size 1440x576 with 1 Axes>"
            ],
            "image/png": "[encoded data removed]"
          },
          "metadata": {
            "needs_background": "light"
          }
        }
      ]
    },
    {
      "cell_type": "code",
      "source": [
        "X = df_phones['Rating'].values.reshape(-1, 1)\n",
        "y = df_phones['Selling Price'].values.reshape(-1, 1)"
      ],
      "metadata": {
        "id": "i_4snmbg9LR1"
      },
      "execution_count": null,
      "outputs": []
    },
    {
      "cell_type": "code",
      "source": [
        "X_train, X_test, y_train, y_test = train_test_split(X, y, test_size=0.2, random_state=0)"
      ],
      "metadata": {
        "id": "JP2k-gARgf4U"
      },
      "execution_count": null,
      "outputs": []
    },
    {
      "cell_type": "code",
      "source": [
        "regressor = LinearRegression()  \n",
        "regressor.fit(X_train, y_train)"
      ],
      "metadata": {
        "colab": {
          "base_uri": "https://localhost:8080/"
        },
        "id": "PRSGMoekg52L",
        "outputId": "b7920007-d6eb-468b-a838-d14aaea48d12"
      },
      "execution_count": null,
      "outputs": [
        {
          "output_type": "execute_result",
          "data": {
            "text/plain": [
              "LinearRegression()"
            ]
          },
          "metadata": {},
          "execution_count": 359
        }
      ]
    },
    {
      "cell_type": "code",
      "source": [
        "print(regressor.intercept_)\n",
        "print(regressor.coef_)"
      ],
      "metadata": {
        "colab": {
          "base_uri": "https://localhost:8080/"
        },
        "id": "peiE2QZtg-ow",
        "outputId": "84c53d19-580e-4516-eafe-c8f7abdb3e5d"
      },
      "execution_count": null,
      "outputs": [
        {
          "output_type": "stream",
          "name": "stdout",
          "text": [
            "[-140615.9860851]\n",
            "[[38993.81352265]]\n"
          ]
        }
      ]
    },
    {
      "cell_type": "code",
      "source": [
        "y_pred = regressor.predict(X_test)"
      ],
      "metadata": {
        "id": "To0BDO3V-LgO"
      },
      "execution_count": null,
      "outputs": []
    },
    {
      "cell_type": "code",
      "source": [
        "df_pred = pd.DataFrame({'Actual': y_test.flatten(), 'Predicted': y_pred.flatten()})\n",
        "df_pred"
      ],
      "metadata": {
        "colab": {
          "base_uri": "https://localhost:8080/",
          "height": 424
        },
        "id": "HNdXp0yxhMAo",
        "outputId": "6d1c599e-bfb5-4c29-a626-7b6e3ffef278"
      },
      "execution_count": null,
      "outputs": [
        {
          "output_type": "execute_result",
          "data": {
            "text/plain": [
              "      Actual     Predicted\n",
              "0    35990.0  30956.793415\n",
              "1    10990.0  30956.793415\n",
              "2    32990.0  27057.412062\n",
              "3    74400.0  34856.174767\n",
              "4    13999.0  30956.793415\n",
              "..       ...           ...\n",
              "433   7990.0  27057.412062\n",
              "434  10499.0  27057.412062\n",
              "435  19499.0  30956.793415\n",
              "436   6999.0   7560.505301\n",
              "437  17999.0  34856.174767\n",
              "\n",
              "[438 rows x 2 columns]"
            ],
            "text/html": [
              "\n",
              "  <div id=\"df-e64c0ad1-83de-4cb4-9275-aabeda4a8a20\">\n",
              "    <div class=\"colab-df-container\">\n",
              "      <div>\n",
              "<style scoped>\n",
              "    .dataframe tbody tr th:only-of-type {\n",
              "        vertical-align: middle;\n",
              "    }\n",
              "\n",
              "    .dataframe tbody tr th {\n",
              "        vertical-align: top;\n",
              "    }\n",
              "\n",
              "    .dataframe thead th {\n",
              "        text-align: right;\n",
              "    }\n",
              "</style>\n",
              "<table border=\"1\" class=\"dataframe\">\n",
              "  <thead>\n",
              "    <tr style=\"text-align: right;\">\n",
              "      <th></th>\n",
              "      <th>Actual</th>\n",
              "      <th>Predicted</th>\n",
              "    </tr>\n",
              "  </thead>\n",
              "  <tbody>\n",
              "    <tr>\n",
              "      <th>0</th>\n",
              "      <td>35990.0</td>\n",
              "      <td>30956.793415</td>\n",
              "    </tr>\n",
              "    <tr>\n",
              "      <th>1</th>\n",
              "      <td>10990.0</td>\n",
              "      <td>30956.793415</td>\n",
              "    </tr>\n",
              "    <tr>\n",
              "      <th>2</th>\n",
              "      <td>32990.0</td>\n",
              "      <td>27057.412062</td>\n",
              "    </tr>\n",
              "    <tr>\n",
              "      <th>3</th>\n",
              "      <td>74400.0</td>\n",
              "      <td>34856.174767</td>\n",
              "    </tr>\n",
              "    <tr>\n",
              "      <th>4</th>\n",
              "      <td>13999.0</td>\n",
              "      <td>30956.793415</td>\n",
              "    </tr>\n",
              "    <tr>\n",
              "      <th>...</th>\n",
              "      <td>...</td>\n",
              "      <td>...</td>\n",
              "    </tr>\n",
              "    <tr>\n",
              "      <th>433</th>\n",
              "      <td>7990.0</td>\n",
              "      <td>27057.412062</td>\n",
              "    </tr>\n",
              "    <tr>\n",
              "      <th>434</th>\n",
              "      <td>10499.0</td>\n",
              "      <td>27057.412062</td>\n",
              "    </tr>\n",
              "    <tr>\n",
              "      <th>435</th>\n",
              "      <td>19499.0</td>\n",
              "      <td>30956.793415</td>\n",
              "    </tr>\n",
              "    <tr>\n",
              "      <th>436</th>\n",
              "      <td>6999.0</td>\n",
              "      <td>7560.505301</td>\n",
              "    </tr>\n",
              "    <tr>\n",
              "      <th>437</th>\n",
              "      <td>17999.0</td>\n",
              "      <td>34856.174767</td>\n",
              "    </tr>\n",
              "  </tbody>\n",
              "</table>\n",
              "<p>438 rows × 2 columns</p>\n",
              "</div>\n",
              "      <button class=\"colab-df-convert\" onclick=\"convertToInteractive('df-e64c0ad1-83de-4cb4-9275-aabeda4a8a20')\"\n",
              "              title=\"Convert this dataframe to an interactive table.\"\n",
              "              style=\"display:none;\">\n",
              "        \n",
              "  <svg xmlns=\"http://www.w3.org/2000/svg\" height=\"24px\"viewBox=\"0 0 24 24\"\n",
              "       width=\"24px\">\n",
              "    <path d=\"M0 0h24v24H0V0z\" fill=\"none\"/>\n",
              "    <path d=\"M18.56 5.44l.94 2.06.94-2.06 2.06-.94-2.06-.94-.94-2.06-.94 2.06-2.06.94zm-11 1L8.5 8.5l.94-2.06 2.06-.94-2.06-.94L8.5 2.5l-.94 2.06-2.06.94zm10 10l.94 2.06.94-2.06 2.06-.94-2.06-.94-.94-2.06-.94 2.06-2.06.94z\"/><path d=\"M17.41 7.96l-1.37-1.37c-.4-.4-.92-.59-1.43-.59-.52 0-1.04.2-1.43.59L10.3 9.45l-7.72 7.72c-.78.78-.78 2.05 0 2.83L4 21.41c.39.39.9.59 1.41.59.51 0 1.02-.2 1.41-.59l7.78-7.78 2.81-2.81c.8-.78.8-2.07 0-2.86zM5.41 20L4 18.59l7.72-7.72 1.47 1.35L5.41 20z\"/>\n",
              "  </svg>\n",
              "      </button>\n",
              "      \n",
              "  <style>\n",
              "    .colab-df-container {\n",
              "      display:flex;\n",
              "      flex-wrap:wrap;\n",
              "      gap: 12px;\n",
              "    }\n",
              "\n",
              "    .colab-df-convert {\n",
              "      background-color: #E8F0FE;\n",
              "      border: none;\n",
              "      border-radius: 50%;\n",
              "      cursor: pointer;\n",
              "      display: none;\n",
              "      fill: #1967D2;\n",
              "      height: 32px;\n",
              "      padding: 0 0 0 0;\n",
              "      width: 32px;\n",
              "    }\n",
              "\n",
              "    .colab-df-convert:hover {\n",
              "      background-color: #E2EBFA;\n",
              "      box-shadow: 0px 1px 2px rgba(60, 64, 67, 0.3), 0px 1px 3px 1px rgba(60, 64, 67, 0.15);\n",
              "      fill: #174EA6;\n",
              "    }\n",
              "\n",
              "    [theme=dark] .colab-df-convert {\n",
              "      background-color: #3B4455;\n",
              "      fill: #D2E3FC;\n",
              "    }\n",
              "\n",
              "    [theme=dark] .colab-df-convert:hover {\n",
              "      background-color: #434B5C;\n",
              "      box-shadow: 0px 1px 3px 1px rgba(0, 0, 0, 0.15);\n",
              "      filter: drop-shadow(0px 1px 2px rgba(0, 0, 0, 0.3));\n",
              "      fill: #FFFFFF;\n",
              "    }\n",
              "  </style>\n",
              "\n",
              "      <script>\n",
              "        const buttonEl =\n",
              "          document.querySelector('#df-e64c0ad1-83de-4cb4-9275-aabeda4a8a20 button.colab-df-convert');\n",
              "        buttonEl.style.display =\n",
              "          google.colab.kernel.accessAllowed ? 'block' : 'none';\n",
              "\n",
              "        async function convertToInteractive(key) {\n",
              "          const element = document.querySelector('#df-e64c0ad1-83de-4cb4-9275-aabeda4a8a20');\n",
              "          const dataTable =\n",
              "            await google.colab.kernel.invokeFunction('convertToInteractive',\n",
              "                                                     [key], {});\n",
              "          if (!dataTable) return;\n",
              "\n",
              "          const docLinkHtml = 'Like what you see? Visit the ' +\n",
              "            '<a target=\"_blank\" href=https://colab.research.google.com/notebooks/data_table.ipynb>data table notebook</a>'\n",
              "            + ' to learn more about interactive tables.';\n",
              "          element.innerHTML = '';\n",
              "          dataTable['output_type'] = 'display_data';\n",
              "          await google.colab.output.renderOutput(dataTable, element);\n",
              "          const docLink = document.createElement('div');\n",
              "          docLink.innerHTML = docLinkHtml;\n",
              "          element.appendChild(docLink);\n",
              "        }\n",
              "      </script>\n",
              "    </div>\n",
              "  </div>\n",
              "  "
            ]
          },
          "metadata": {},
          "execution_count": 362
        }
      ]
    },
    {
      "cell_type": "code",
      "source": [
        "df1 = df_pred.head(25)\n",
        "df1.plot(kind='bar',figsize=(20, 8))\n",
        "plt.grid(which='major', linestyle='-', linewidth='0.5', color='green')\n",
        "plt.grid(which='minor', linestyle=':', linewidth='0.5', color='black')\n",
        "plt.show()"
      ],
      "metadata": {
        "colab": {
          "base_uri": "https://localhost:8080/",
          "height": 486
        },
        "id": "2mBaw8Abhwyw",
        "outputId": "9f778b10-d2b2-4a5d-eb1e-27467d177471"
      },
      "execution_count": null,
      "outputs": [
        {
          "output_type": "display_data",
          "data": {
            "text/plain": [
              "<Figure size 1440x576 with 1 Axes>"
            ],
            "image/png": "[encoded data removed]"
          },
          "metadata": {
            "needs_background": "light"
          }
        }
      ]
    },
    {
      "cell_type": "code",
      "source": [
        "fig, ax = plt.subplots(figsize=(20, 8))\n",
        "plt.scatter(X_test, y_test)\n",
        "plt.plot(X_test, y_pred, color='red', linewidth=2)\n",
        "plt.show()"
      ],
      "metadata": {
        "colab": {
          "base_uri": "https://localhost:8080/",
          "height": 483
        },
        "id": "tRH_rAAeh-je",
        "outputId": "31b36302-72b5-4182-af4c-c635a03aaa31"
      },
      "execution_count": null,
      "outputs": [
        {
          "output_type": "display_data",
          "data": {
            "text/plain": [
              "<Figure size 1440x576 with 1 Axes>"
            ],
            "image/png": "[encoded data removed]"
          },
          "metadata": {
            "needs_background": "light"
          }
        }
      ]
    },
    {
      "cell_type": "code",
      "source": [
        "r_sq = regressor.score(X_test, y_test)\n",
        "print('coefficient of determination:', r_sq)"
      ],
      "metadata": {
        "colab": {
          "base_uri": "https://localhost:8080/"
        },
        "id": "P7JhoW2rAOGx",
        "outputId": "bb30c789-fbb7-47e9-db64-1b6db6130ebb"
      },
      "execution_count": null,
      "outputs": [
        {
          "output_type": "stream",
          "name": "stdout",
          "text": [
            "coefficient of determination: 0.25218898685136426\n"
          ]
        }
      ]
    },
    {
      "cell_type": "code",
      "source": [
        "print('intercept:', regressor.intercept_)\n",
        "print('slope:', regressor.coef_)"
      ],
      "metadata": {
        "colab": {
          "base_uri": "https://localhost:8080/"
        },
        "id": "UYPguU6GAWGW",
        "outputId": "df7dc209-7ed1-4da0-ab3a-8a2258d6e987"
      },
      "execution_count": null,
      "outputs": [
        {
          "output_type": "stream",
          "name": "stdout",
          "text": [
            "intercept: [-140615.9860851]\n",
            "slope: [[38993.81352265]]\n"
          ]
        }
      ]
    },
    {
      "cell_type": "code",
      "source": [
        "print('Mean Absolute Error:', metrics.mean_absolute_error(y_test, y_pred))  \n",
        "print('Mean Squared Error:', metrics.mean_squared_error(y_test, y_pred))  \n",
        "print('Root Mean Squared Error:', np.sqrt(metrics.mean_squared_error(y_test, y_pred)))"
      ],
      "metadata": {
        "colab": {
          "base_uri": "https://localhost:8080/"
        },
        "id": "MJuwTMqqdvYv",
        "outputId": "a8772e7d-a50c-416e-e4e3-a978de04a703"
      },
      "execution_count": null,
      "outputs": [
        {
          "output_type": "stream",
          "name": "stdout",
          "text": [
            "Mean Absolute Error: 15130.299756336022\n",
            "Mean Squared Error: 474562981.7514144\n",
            "Root Mean Squared Error: 21784.466524370397\n"
          ]
        }
      ]
    },
    {
      "cell_type": "code",
      "source": [
        "plt.figure(figsize=(10, 5))\n",
        "c = df_phones.corr('spearman')\n",
        "sns.heatmap(c,cmap=\"BrBG\",annot=True)\n",
        "c"
      ],
      "metadata": {
        "colab": {
          "base_uri": "https://localhost:8080/",
          "height": 513
        },
        "id": "nFtNkWq7mhAV",
        "outputId": "d1f6ecea-b4a6-4434-f2a9-3b3057d874b8"
      },
      "execution_count": null,
      "outputs": [
        {
          "output_type": "execute_result",
          "data": {
            "text/plain": [
              "                  Memory   Storage    Rating  Selling Price  Original Price\n",
              "Memory          1.000000  0.820081  0.371479       0.538852        0.560446\n",
              "Storage         0.820081  1.000000  0.551103       0.679909        0.700704\n",
              "Rating          0.371479  0.551103  1.000000       0.584789        0.586940\n",
              "Selling Price   0.538852  0.679909  0.584789       1.000000        0.976407\n",
              "Original Price  0.560446  0.700704  0.586940       0.976407        1.000000"
            ],
            "text/html": [
              "\n",
              "  <div id=\"df-cedc266a-7d65-4622-88e6-cfc7e147023c\">\n",
              "    <div class=\"colab-df-container\">\n",
              "      <div>\n",
              "<style scoped>\n",
              "    .dataframe tbody tr th:only-of-type {\n",
              "        vertical-align: middle;\n",
              "    }\n",
              "\n",
              "    .dataframe tbody tr th {\n",
              "        vertical-align: top;\n",
              "    }\n",
              "\n",
              "    .dataframe thead th {\n",
              "        text-align: right;\n",
              "    }\n",
              "</style>\n",
              "<table border=\"1\" class=\"dataframe\">\n",
              "  <thead>\n",
              "    <tr style=\"text-align: right;\">\n",
              "      <th></th>\n",
              "      <th>Memory</th>\n",
              "      <th>Storage</th>\n",
              "      <th>Rating</th>\n",
              "      <th>Selling Price</th>\n",
              "      <th>Original Price</th>\n",
              "    </tr>\n",
              "  </thead>\n",
              "  <tbody>\n",
              "    <tr>\n",
              "      <th>Memory</th>\n",
              "      <td>1.000000</td>\n",
              "      <td>0.820081</td>\n",
              "      <td>0.371479</td>\n",
              "      <td>0.538852</td>\n",
              "      <td>0.560446</td>\n",
              "    </tr>\n",
              "    <tr>\n",
              "      <th>Storage</th>\n",
              "      <td>0.820081</td>\n",
              "      <td>1.000000</td>\n",
              "      <td>0.551103</td>\n",
              "      <td>0.679909</td>\n",
              "      <td>0.700704</td>\n",
              "    </tr>\n",
              "    <tr>\n",
              "      <th>Rating</th>\n",
              "      <td>0.371479</td>\n",
              "      <td>0.551103</td>\n",
              "      <td>1.000000</td>\n",
              "      <td>0.584789</td>\n",
              "      <td>0.586940</td>\n",
              "    </tr>\n",
              "    <tr>\n",
              "      <th>Selling Price</th>\n",
              "      <td>0.538852</td>\n",
              "      <td>0.679909</td>\n",
              "      <td>0.584789</td>\n",
              "      <td>1.000000</td>\n",
              "      <td>0.976407</td>\n",
              "    </tr>\n",
              "    <tr>\n",
              "      <th>Original Price</th>\n",
              "      <td>0.560446</td>\n",
              "      <td>0.700704</td>\n",
              "      <td>0.586940</td>\n",
              "      <td>0.976407</td>\n",
              "      <td>1.000000</td>\n",
              "    </tr>\n",
              "  </tbody>\n",
              "</table>\n",
              "</div>\n",
              "      <button class=\"colab-df-convert\" onclick=\"convertToInteractive('df-cedc266a-7d65-4622-88e6-cfc7e147023c')\"\n",
              "              title=\"Convert this dataframe to an interactive table.\"\n",
              "              style=\"display:none;\">\n",
              "        \n",
              "  <svg xmlns=\"http://www.w3.org/2000/svg\" height=\"24px\"viewBox=\"0 0 24 24\"\n",
              "       width=\"24px\">\n",
              "    <path d=\"M0 0h24v24H0V0z\" fill=\"none\"/>\n",
              "    <path d=\"M18.56 5.44l.94 2.06.94-2.06 2.06-.94-2.06-.94-.94-2.06-.94 2.06-2.06.94zm-11 1L8.5 8.5l.94-2.06 2.06-.94-2.06-.94L8.5 2.5l-.94 2.06-2.06.94zm10 10l.94 2.06.94-2.06 2.06-.94-2.06-.94-.94-2.06-.94 2.06-2.06.94z\"/><path d=\"M17.41 7.96l-1.37-1.37c-.4-.4-.92-.59-1.43-.59-.52 0-1.04.2-1.43.59L10.3 9.45l-7.72 7.72c-.78.78-.78 2.05 0 2.83L4 21.41c.39.39.9.59 1.41.59.51 0 1.02-.2 1.41-.59l7.78-7.78 2.81-2.81c.8-.78.8-2.07 0-2.86zM5.41 20L4 18.59l7.72-7.72 1.47 1.35L5.41 20z\"/>\n",
              "  </svg>\n",
              "      </button>\n",
              "      \n",
              "  <style>\n",
              "    .colab-df-container {\n",
              "      display:flex;\n",
              "      flex-wrap:wrap;\n",
              "      gap: 12px;\n",
              "    }\n",
              "\n",
              "    .colab-df-convert {\n",
              "      background-color: #E8F0FE;\n",
              "      border: none;\n",
              "      border-radius: 50%;\n",
              "      cursor: pointer;\n",
              "      display: none;\n",
              "      fill: #1967D2;\n",
              "      height: 32px;\n",
              "      padding: 0 0 0 0;\n",
              "      width: 32px;\n",
              "    }\n",
              "\n",
              "    .colab-df-convert:hover {\n",
              "      background-color: #E2EBFA;\n",
              "      box-shadow: 0px 1px 2px rgba(60, 64, 67, 0.3), 0px 1px 3px 1px rgba(60, 64, 67, 0.15);\n",
              "      fill: #174EA6;\n",
              "    }\n",
              "\n",
              "    [theme=dark] .colab-df-convert {\n",
              "      background-color: #3B4455;\n",
              "      fill: #D2E3FC;\n",
              "    }\n",
              "\n",
              "    [theme=dark] .colab-df-convert:hover {\n",
              "      background-color: #434B5C;\n",
              "      box-shadow: 0px 1px 3px 1px rgba(0, 0, 0, 0.15);\n",
              "      filter: drop-shadow(0px 1px 2px rgba(0, 0, 0, 0.3));\n",
              "      fill: #FFFFFF;\n",
              "    }\n",
              "  </style>\n",
              "\n",
              "      <script>\n",
              "        const buttonEl =\n",
              "          document.querySelector('#df-cedc266a-7d65-4622-88e6-cfc7e147023c button.colab-df-convert');\n",
              "        buttonEl.style.display =\n",
              "          google.colab.kernel.accessAllowed ? 'block' : 'none';\n",
              "\n",
              "        async function convertToInteractive(key) {\n",
              "          const element = document.querySelector('#df-cedc266a-7d65-4622-88e6-cfc7e147023c');\n",
              "          const dataTable =\n",
              "            await google.colab.kernel.invokeFunction('convertToInteractive',\n",
              "                                                     [key], {});\n",
              "          if (!dataTable) return;\n",
              "\n",
              "          const docLinkHtml = 'Like what you see? Visit the ' +\n",
              "            '<a target=\"_blank\" href=https://colab.research.google.com/notebooks/data_table.ipynb>data table notebook</a>'\n",
              "            + ' to learn more about interactive tables.';\n",
              "          element.innerHTML = '';\n",
              "          dataTable['output_type'] = 'display_data';\n",
              "          await google.colab.output.renderOutput(dataTable, element);\n",
              "          const docLink = document.createElement('div');\n",
              "          docLink.innerHTML = docLinkHtml;\n",
              "          element.appendChild(docLink);\n",
              "        }\n",
              "      </script>\n",
              "    </div>\n",
              "  </div>\n",
              "  "
            ]
          },
          "metadata": {},
          "execution_count": 368
        },
        {
          "output_type": "display_data",
          "data": {
            "text/plain": [
              "<Figure size 720x360 with 2 Axes>"
            ],
            "image/png": "[encoded data removed]"
          },
          "metadata": {
            "needs_background": "light"
          }
        }
      ]
    },
    {
      "cell_type": "code",
      "source": [
        "X2 = sm.add_constant(X)\n",
        "est = sm.OLS(y, X2)\n",
        "est2 = est.fit()\n",
        "print(est2.summary())"
      ],
      "metadata": {
        "colab": {
          "base_uri": "https://localhost:8080/"
        },
        "id": "d7S4Q6ONpBdt",
        "outputId": "cfe0b47b-742b-4462-be8d-40cc5ff2db0d"
      },
      "execution_count": null,
      "outputs": [
        {
          "output_type": "stream",
          "name": "stdout",
          "text": [
            "                            OLS Regression Results                            \n",
            "==============================================================================\n",
            "Dep. Variable:                      y   R-squared:                       0.205\n",
            "Model:                            OLS   Adj. R-squared:                  0.205\n",
            "Method:                 Least Squares   F-statistic:                     564.0\n",
            "Date:                Fri, 25 Mar 2022   Prob (F-statistic):          4.20e-111\n",
            "Time:                        10:34:40   Log-Likelihood:                -24978.\n",
            "No. Observations:                2189   AIC:                         4.996e+04\n",
            "Df Residuals:                    2187   BIC:                         4.997e+04\n",
            "Df Model:                           1                                         \n",
            "Covariance Type:            nonrobust                                         \n",
            "==============================================================================\n",
            "                 coef    std err          t      P>|t|      [0.025      0.975]\n",
            "------------------------------------------------------------------------------\n",
            "const      -1.499e+05   7371.108    -20.333      0.000   -1.64e+05   -1.35e+05\n",
            "x1          4.123e+04   1736.239     23.748      0.000    3.78e+04    4.46e+04\n",
            "==============================================================================\n",
            "Omnibus:                     1148.747   Durbin-Watson:                   1.195\n",
            "Prob(Omnibus):                  0.000   Jarque-Bera (JB):             8769.866\n",
            "Skew:                           2.382   Prob(JB):                         0.00\n",
            "Kurtosis:                      11.570   Cond. No.                         70.7\n",
            "==============================================================================\n",
            "\n",
            "Warnings:\n",
            "[1] Standard Errors assume that the covariance matrix of the errors is correctly specified.\n"
          ]
        }
      ]
    }
  ]
}