{
 "cells": [
  {
   "cell_type": "code",
   "execution_count": 1,
   "id": "e5f9b3b5",
   "metadata": {
    "_cell_guid": "79c7e3d0-c299-4dcb-8224-4455121ee9b0",
    "_uuid": "d629ff2d2480ee46fbb7e2d37f6b5fab8052498a",
    "execution": {
     "iopub.execute_input": "2022-05-16T16:04:12.368672Z",
     "iopub.status.busy": "2022-05-16T16:04:12.368129Z",
     "iopub.status.idle": "2022-05-16T16:04:13.987673Z",
     "shell.execute_reply": "2022-05-16T16:04:13.986227Z"
    },
    "papermill": {
     "duration": 1.660931,
     "end_time": "2022-05-16T16:04:13.990617",
     "exception": false,
     "start_time": "2022-05-16T16:04:12.329686",
     "status": "completed"
    },
    "tags": []
   },
   "outputs": [
    {
     "name": "stdout",
     "output_type": "stream",
     "text": [
      "/kaggle/input/titanic/train.csv\n",
      "/kaggle/input/titanic/test.csv\n",
      "/kaggle/input/titanic/gender_submission.csv\n"
     ]
    }
   ],
   "source": [
    "# This Python 3 environment comes with many helpful analytics libraries installed\n",
    "# It is defined by the kaggle/python Docker image: https://github.com/kaggle/docker-python\n",
    "# For example, here's several helpful packages to load\n",
    "\n",
    "import pandas as pd\n",
    "import matplotlib.pyplot as plt\n",
    "import seaborn as sns\n",
    "import numpy as np\n",
    "from sklearn.model_selection import cross_val_score\n",
    "from sklearn.ensemble import RandomForestClassifier\n",
    "from sklearn.svm import SVC\n",
    "from sklearn.preprocessing import StandardScaler\n",
    "from sklearn.pipeline import make_pipeline\n",
    "from sklearn.model_selection import GridSearchCV\n",
    "import warnings\n",
    "\n",
    "# Input data files are available in the read-only \"../input/\" directory\n",
    "# For example, running this (by clicking run or pressing Shift+Enter) will list all files under the input directory\n",
    "\n",
    "import os\n",
    "for dirname, _, filenames in os.walk('/kaggle/input'):\n",
    "    for filename in filenames:\n",
    "        print(os.path.join(dirname, filename))\n",
    "\n",
    "# You can write up to 20GB to the current directory (/kaggle/working/) that gets preserved as output when you create a version using \"Save & Run All\" \n",
    "# You can also write temporary files to /kaggle/temp/, but they won't be saved outside of the current session"
   ]
  },
  {
   "cell_type": "code",
   "execution_count": 2,
   "id": "96599b42",
   "metadata": {
    "_uuid": "a0388472ab56ac51d3c67b9e2f91beb85613cf04",
    "execution": {
     "iopub.execute_input": "2022-05-16T16:04:14.063273Z",
     "iopub.status.busy": "2022-05-16T16:04:14.062796Z",
     "iopub.status.idle": "2022-05-16T16:04:14.107483Z",
     "shell.execute_reply": "2022-05-16T16:04:14.106708Z"
    },
    "papermill": {
     "duration": 0.083359,
     "end_time": "2022-05-16T16:04:14.109842",
     "exception": false,
     "start_time": "2022-05-16T16:04:14.026483",
     "status": "completed"
    },
    "tags": []
   },
   "outputs": [],
   "source": [
    "train=pd.read_csv(\"/kaggle/input/titanic/train.csv\")\n",
    "test=pd.read_csv(\"/kaggle/input/titanic/test.csv\")\n",
    "test2=pd.read_csv(\"/kaggle/input/titanic/test.csv\")\n",
    "titanic=pd.concat([train, test], sort=False)\n",
    "len_train=train.shape[0]"
   ]
  },
  {
   "cell_type": "code",
   "execution_count": 3,
   "id": "d8b24310",
   "metadata": {
    "_uuid": "35b6af39dc4fd89968323620a34e432a1ca564ef",
    "execution": {
     "iopub.execute_input": "2022-05-16T16:04:14.180508Z",
     "iopub.status.busy": "2022-05-16T16:04:14.179546Z",
     "iopub.status.idle": "2022-05-16T16:04:14.190731Z",
     "shell.execute_reply": "2022-05-16T16:04:14.189956Z"
    },
    "papermill": {
     "duration": 0.048113,
     "end_time": "2022-05-16T16:04:14.192415",
     "exception": false,
     "start_time": "2022-05-16T16:04:14.144302",
     "status": "completed"
    },
    "tags": []
   },
   "outputs": [
    {
     "data": {
      "text/plain": [
       "PassengerId      int64\n",
       "Pclass           int64\n",
       "SibSp            int64\n",
       "Parch            int64\n",
       "Survived       float64\n",
       "Age            float64\n",
       "Fare           float64\n",
       "Name            object\n",
       "Sex             object\n",
       "Ticket          object\n",
       "Cabin           object\n",
       "Embarked        object\n",
       "dtype: object"
      ]
     },
     "execution_count": 3,
     "metadata": {},
     "output_type": "execute_result"
    }
   ],
   "source": [
    "titanic.dtypes.sort_values()"
   ]
  },
  {
   "cell_type": "code",
   "execution_count": 4,
   "id": "d06d83e3",
   "metadata": {
    "_uuid": "a4c7dfbcb499dc520cdeea29b1dce40b7a668a3f",
    "execution": {
     "iopub.execute_input": "2022-05-16T16:04:14.262939Z",
     "iopub.status.busy": "2022-05-16T16:04:14.262347Z",
     "iopub.status.idle": "2022-05-16T16:04:14.283398Z",
     "shell.execute_reply": "2022-05-16T16:04:14.282565Z"
    },
    "papermill": {
     "duration": 0.058981,
     "end_time": "2022-05-16T16:04:14.285589",
     "exception": false,
     "start_time": "2022-05-16T16:04:14.226608",
     "status": "completed"
    },
    "tags": []
   },
   "outputs": [
    {
     "data": {
      "text/html": [
       "<div>\n",
       "<style scoped>\n",
       "    .dataframe tbody tr th:only-of-type {\n",
       "        vertical-align: middle;\n",
       "    }\n",
       "\n",
       "    .dataframe tbody tr th {\n",
       "        vertical-align: top;\n",
       "    }\n",
       "\n",
       "    .dataframe thead th {\n",
       "        text-align: right;\n",
       "    }\n",
       "</style>\n",
       "<table border=\"1\" class=\"dataframe\">\n",
       "  <thead>\n",
       "    <tr style=\"text-align: right;\">\n",
       "      <th></th>\n",
       "      <th>PassengerId</th>\n",
       "      <th>Pclass</th>\n",
       "      <th>SibSp</th>\n",
       "      <th>Parch</th>\n",
       "    </tr>\n",
       "  </thead>\n",
       "  <tbody>\n",
       "    <tr>\n",
       "      <th>0</th>\n",
       "      <td>1</td>\n",
       "      <td>3</td>\n",
       "      <td>1</td>\n",
       "      <td>0</td>\n",
       "    </tr>\n",
       "    <tr>\n",
       "      <th>1</th>\n",
       "      <td>2</td>\n",
       "      <td>1</td>\n",
       "      <td>1</td>\n",
       "      <td>0</td>\n",
       "    </tr>\n",
       "    <tr>\n",
       "      <th>2</th>\n",
       "      <td>3</td>\n",
       "      <td>3</td>\n",
       "      <td>0</td>\n",
       "      <td>0</td>\n",
       "    </tr>\n",
       "    <tr>\n",
       "      <th>3</th>\n",
       "      <td>4</td>\n",
       "      <td>1</td>\n",
       "      <td>1</td>\n",
       "      <td>0</td>\n",
       "    </tr>\n",
       "    <tr>\n",
       "      <th>4</th>\n",
       "      <td>5</td>\n",
       "      <td>3</td>\n",
       "      <td>0</td>\n",
       "      <td>0</td>\n",
       "    </tr>\n",
       "  </tbody>\n",
       "</table>\n",
       "</div>"
      ],
      "text/plain": [
       "   PassengerId  Pclass  SibSp  Parch\n",
       "0            1       3      1      0\n",
       "1            2       1      1      0\n",
       "2            3       3      0      0\n",
       "3            4       1      1      0\n",
       "4            5       3      0      0"
      ]
     },
     "execution_count": 4,
     "metadata": {},
     "output_type": "execute_result"
    }
   ],
   "source": [
    "titanic.select_dtypes(include='int').head()"
   ]
  },
  {
   "cell_type": "code",
   "execution_count": 5,
   "id": "ae3042ef",
   "metadata": {
    "_uuid": "13db41632f5053f61fab2197ce9da17ef4e61e1f",
    "execution": {
     "iopub.execute_input": "2022-05-16T16:04:14.357925Z",
     "iopub.status.busy": "2022-05-16T16:04:14.357482Z",
     "iopub.status.idle": "2022-05-16T16:04:14.370440Z",
     "shell.execute_reply": "2022-05-16T16:04:14.369526Z"
    },
    "papermill": {
     "duration": 0.051423,
     "end_time": "2022-05-16T16:04:14.372607",
     "exception": false,
     "start_time": "2022-05-16T16:04:14.321184",
     "status": "completed"
    },
    "tags": []
   },
   "outputs": [
    {
     "data": {
      "text/html": [
       "<div>\n",
       "<style scoped>\n",
       "    .dataframe tbody tr th:only-of-type {\n",
       "        vertical-align: middle;\n",
       "    }\n",
       "\n",
       "    .dataframe tbody tr th {\n",
       "        vertical-align: top;\n",
       "    }\n",
       "\n",
       "    .dataframe thead th {\n",
       "        text-align: right;\n",
       "    }\n",
       "</style>\n",
       "<table border=\"1\" class=\"dataframe\">\n",
       "  <thead>\n",
       "    <tr style=\"text-align: right;\">\n",
       "      <th></th>\n",
       "      <th>Name</th>\n",
       "      <th>Sex</th>\n",
       "      <th>Ticket</th>\n",
       "      <th>Cabin</th>\n",
       "      <th>Embarked</th>\n",
       "    </tr>\n",
       "  </thead>\n",
       "  <tbody>\n",
       "    <tr>\n",
       "      <th>0</th>\n",
       "      <td>Braund, Mr. Owen Harris</td>\n",
       "      <td>male</td>\n",
       "      <td>A/5 21171</td>\n",
       "      <td>NaN</td>\n",
       "      <td>S</td>\n",
       "    </tr>\n",
       "    <tr>\n",
       "      <th>1</th>\n",
       "      <td>Cumings, Mrs. John Bradley (Florence Briggs Th...</td>\n",
       "      <td>female</td>\n",
       "      <td>PC 17599</td>\n",
       "      <td>C85</td>\n",
       "      <td>C</td>\n",
       "    </tr>\n",
       "    <tr>\n",
       "      <th>2</th>\n",
       "      <td>Heikkinen, Miss. Laina</td>\n",
       "      <td>female</td>\n",
       "      <td>STON/O2. 3101282</td>\n",
       "      <td>NaN</td>\n",
       "      <td>S</td>\n",
       "    </tr>\n",
       "    <tr>\n",
       "      <th>3</th>\n",
       "      <td>Futrelle, Mrs. Jacques Heath (Lily May Peel)</td>\n",
       "      <td>female</td>\n",
       "      <td>113803</td>\n",
       "      <td>C123</td>\n",
       "      <td>S</td>\n",
       "    </tr>\n",
       "    <tr>\n",
       "      <th>4</th>\n",
       "      <td>Allen, Mr. William Henry</td>\n",
       "      <td>male</td>\n",
       "      <td>373450</td>\n",
       "      <td>NaN</td>\n",
       "      <td>S</td>\n",
       "    </tr>\n",
       "  </tbody>\n",
       "</table>\n",
       "</div>"
      ],
      "text/plain": [
       "                                                Name     Sex  \\\n",
       "0                            Braund, Mr. Owen Harris    male   \n",
       "1  Cumings, Mrs. John Bradley (Florence Briggs Th...  female   \n",
       "2                             Heikkinen, Miss. Laina  female   \n",
       "3       Futrelle, Mrs. Jacques Heath (Lily May Peel)  female   \n",
       "4                           Allen, Mr. William Henry    male   \n",
       "\n",
       "             Ticket Cabin Embarked  \n",
       "0         A/5 21171   NaN        S  \n",
       "1          PC 17599   C85        C  \n",
       "2  STON/O2. 3101282   NaN        S  \n",
       "3            113803  C123        S  \n",
       "4            373450   NaN        S  "
      ]
     },
     "execution_count": 5,
     "metadata": {},
     "output_type": "execute_result"
    }
   ],
   "source": [
    "titanic.select_dtypes(include='object').head()"
   ]
  },
  {
   "cell_type": "code",
   "execution_count": 6,
   "id": "38b2e7a7",
   "metadata": {
    "_uuid": "e9bc9ec79522fa0e1da0addc27fa98950ad89986",
    "execution": {
     "iopub.execute_input": "2022-05-16T16:04:14.446977Z",
     "iopub.status.busy": "2022-05-16T16:04:14.446661Z",
     "iopub.status.idle": "2022-05-16T16:04:14.460189Z",
     "shell.execute_reply": "2022-05-16T16:04:14.459279Z"
    },
    "papermill": {
     "duration": 0.052373,
     "end_time": "2022-05-16T16:04:14.462202",
     "exception": false,
     "start_time": "2022-05-16T16:04:14.409829",
     "status": "completed"
    },
    "tags": []
   },
   "outputs": [
    {
     "data": {
      "text/html": [
       "<div>\n",
       "<style scoped>\n",
       "    .dataframe tbody tr th:only-of-type {\n",
       "        vertical-align: middle;\n",
       "    }\n",
       "\n",
       "    .dataframe tbody tr th {\n",
       "        vertical-align: top;\n",
       "    }\n",
       "\n",
       "    .dataframe thead th {\n",
       "        text-align: right;\n",
       "    }\n",
       "</style>\n",
       "<table border=\"1\" class=\"dataframe\">\n",
       "  <thead>\n",
       "    <tr style=\"text-align: right;\">\n",
       "      <th></th>\n",
       "      <th>Survived</th>\n",
       "      <th>Age</th>\n",
       "      <th>Fare</th>\n",
       "    </tr>\n",
       "  </thead>\n",
       "  <tbody>\n",
       "    <tr>\n",
       "      <th>0</th>\n",
       "      <td>0.0</td>\n",
       "      <td>22.0</td>\n",
       "      <td>7.2500</td>\n",
       "    </tr>\n",
       "    <tr>\n",
       "      <th>1</th>\n",
       "      <td>1.0</td>\n",
       "      <td>38.0</td>\n",
       "      <td>71.2833</td>\n",
       "    </tr>\n",
       "    <tr>\n",
       "      <th>2</th>\n",
       "      <td>1.0</td>\n",
       "      <td>26.0</td>\n",
       "      <td>7.9250</td>\n",
       "    </tr>\n",
       "    <tr>\n",
       "      <th>3</th>\n",
       "      <td>1.0</td>\n",
       "      <td>35.0</td>\n",
       "      <td>53.1000</td>\n",
       "    </tr>\n",
       "    <tr>\n",
       "      <th>4</th>\n",
       "      <td>0.0</td>\n",
       "      <td>35.0</td>\n",
       "      <td>8.0500</td>\n",
       "    </tr>\n",
       "  </tbody>\n",
       "</table>\n",
       "</div>"
      ],
      "text/plain": [
       "   Survived   Age     Fare\n",
       "0       0.0  22.0   7.2500\n",
       "1       1.0  38.0  71.2833\n",
       "2       1.0  26.0   7.9250\n",
       "3       1.0  35.0  53.1000\n",
       "4       0.0  35.0   8.0500"
      ]
     },
     "execution_count": 6,
     "metadata": {},
     "output_type": "execute_result"
    }
   ],
   "source": [
    "titanic.select_dtypes(include='float').head()"
   ]
  },
  {
   "cell_type": "code",
   "execution_count": 7,
   "id": "db2a1d1d",
   "metadata": {
    "_uuid": "da8b1ed5506d5ec963ed65ad89ab5bc4ed6e5630",
    "execution": {
     "iopub.execute_input": "2022-05-16T16:04:14.536871Z",
     "iopub.status.busy": "2022-05-16T16:04:14.536553Z",
     "iopub.status.idle": "2022-05-16T16:04:14.548841Z",
     "shell.execute_reply": "2022-05-16T16:04:14.548000Z"
    },
    "papermill": {
     "duration": 0.051536,
     "end_time": "2022-05-16T16:04:14.550805",
     "exception": false,
     "start_time": "2022-05-16T16:04:14.499269",
     "status": "completed"
    },
    "tags": []
   },
   "outputs": [
    {
     "data": {
      "text/plain": [
       "Survived     418\n",
       "Age          263\n",
       "Fare           1\n",
       "Cabin       1014\n",
       "Embarked       2\n",
       "dtype: int64"
      ]
     },
     "execution_count": 7,
     "metadata": {},
     "output_type": "execute_result"
    }
   ],
   "source": [
    "titanic.isnull().sum()[titanic.isnull().sum()>0]"
   ]
  },
  {
   "cell_type": "code",
   "execution_count": 8,
   "id": "54fccf75",
   "metadata": {
    "_uuid": "6f17392d25b285ae7688744b24dd2d0a854734c9",
    "execution": {
     "iopub.execute_input": "2022-05-16T16:04:14.625745Z",
     "iopub.status.busy": "2022-05-16T16:04:14.625418Z",
     "iopub.status.idle": "2022-05-16T16:04:14.633857Z",
     "shell.execute_reply": "2022-05-16T16:04:14.632978Z"
    },
    "papermill": {
     "duration": 0.048893,
     "end_time": "2022-05-16T16:04:14.636052",
     "exception": false,
     "start_time": "2022-05-16T16:04:14.587159",
     "status": "completed"
    },
    "tags": []
   },
   "outputs": [],
   "source": [
    "train.Fare=train.Fare.fillna(train.Fare.mean())\n",
    "test.Fare=test.Fare.fillna(train.Fare.mean())"
   ]
  },
  {
   "cell_type": "code",
   "execution_count": 9,
   "id": "ea83ab04",
   "metadata": {
    "_uuid": "77e26943c63af99f852f8b8db2c79c634b976683",
    "execution": {
     "iopub.execute_input": "2022-05-16T16:04:14.710717Z",
     "iopub.status.busy": "2022-05-16T16:04:14.710382Z",
     "iopub.status.idle": "2022-05-16T16:04:14.716712Z",
     "shell.execute_reply": "2022-05-16T16:04:14.715772Z"
    },
    "papermill": {
     "duration": 0.046579,
     "end_time": "2022-05-16T16:04:14.718821",
     "exception": false,
     "start_time": "2022-05-16T16:04:14.672242",
     "status": "completed"
    },
    "tags": []
   },
   "outputs": [],
   "source": [
    "train.Cabin=train.Cabin.fillna(\"unknow\")\n",
    "test.Cabin=test.Cabin.fillna(\"unknow\")"
   ]
  },
  {
   "cell_type": "code",
   "execution_count": 10,
   "id": "07995465",
   "metadata": {
    "_uuid": "3e922e317b43605fba76959f561ed0c1015acecb",
    "execution": {
     "iopub.execute_input": "2022-05-16T16:04:14.796170Z",
     "iopub.status.busy": "2022-05-16T16:04:14.795901Z",
     "iopub.status.idle": "2022-05-16T16:04:14.803550Z",
     "shell.execute_reply": "2022-05-16T16:04:14.802723Z"
    },
    "papermill": {
     "duration": 0.04934,
     "end_time": "2022-05-16T16:04:14.805500",
     "exception": false,
     "start_time": "2022-05-16T16:04:14.756160",
     "status": "completed"
    },
    "tags": []
   },
   "outputs": [],
   "source": [
    "train.Embarked=train.Embarked.fillna(train.Embarked.mode()[0])\n",
    "test.Embarked=test.Embarked.fillna(train.Embarked.mode()[0])"
   ]
  },
  {
   "cell_type": "code",
   "execution_count": 11,
   "id": "addeedb9",
   "metadata": {
    "_uuid": "d668e4af75e458c75a992055e9e88b7bd1874b27",
    "execution": {
     "iopub.execute_input": "2022-05-16T16:04:14.879944Z",
     "iopub.status.busy": "2022-05-16T16:04:14.879672Z",
     "iopub.status.idle": "2022-05-16T16:04:14.888604Z",
     "shell.execute_reply": "2022-05-16T16:04:14.887607Z"
    },
    "papermill": {
     "duration": 0.049061,
     "end_time": "2022-05-16T16:04:14.890605",
     "exception": false,
     "start_time": "2022-05-16T16:04:14.841544",
     "status": "completed"
    },
    "tags": []
   },
   "outputs": [],
   "source": [
    "train['title']=train.Name.apply(lambda x: x.split('.')[0].split(',')[1].strip())\n",
    "test['title']=test.Name.apply(lambda x: x.split('.')[0].split(',')[1].strip())"
   ]
  },
  {
   "cell_type": "code",
   "execution_count": 12,
   "id": "a5697673",
   "metadata": {
    "_uuid": "3c411b451c58cd7f90489456f92f6079bbe24100",
    "execution": {
     "iopub.execute_input": "2022-05-16T16:04:14.966750Z",
     "iopub.status.busy": "2022-05-16T16:04:14.966393Z",
     "iopub.status.idle": "2022-05-16T16:04:14.972271Z",
     "shell.execute_reply": "2022-05-16T16:04:14.971394Z"
    },
    "papermill": {
     "duration": 0.046423,
     "end_time": "2022-05-16T16:04:14.974162",
     "exception": false,
     "start_time": "2022-05-16T16:04:14.927739",
     "status": "completed"
    },
    "tags": []
   },
   "outputs": [],
   "source": [
    "newtitles={\n",
    "    \"Capt\":       \"Officer\",\n",
    "    \"Col\":        \"Officer\",\n",
    "    \"Major\":      \"Officer\",\n",
    "    \"Jonkheer\":   \"Royalty\",\n",
    "    \"Don\":        \"Royalty\",\n",
    "    \"Sir\" :       \"Royalty\",\n",
    "    \"Dr\":         \"Officer\",\n",
    "    \"Rev\":        \"Officer\",\n",
    "    \"the Countess\":\"Royalty\",\n",
    "    \"Dona\":       \"Royalty\",\n",
    "    \"Mme\":        \"Mrs\",\n",
    "    \"Mlle\":       \"Miss\",\n",
    "    \"Ms\":         \"Mrs\",\n",
    "    \"Mr\" :        \"Mr\",\n",
    "    \"Mrs\" :       \"Mrs\",\n",
    "    \"Miss\" :      \"Miss\",\n",
    "    \"Master\" :    \"Master\",\n",
    "    \"Lady\" :      \"Royalty\"}"
   ]
  },
  {
   "cell_type": "code",
   "execution_count": 13,
   "id": "758e31fc",
   "metadata": {
    "_uuid": "e006de442ef2a974827b46590e3a997207a59b64",
    "execution": {
     "iopub.execute_input": "2022-05-16T16:04:15.048339Z",
     "iopub.status.busy": "2022-05-16T16:04:15.048020Z",
     "iopub.status.idle": "2022-05-16T16:04:15.055121Z",
     "shell.execute_reply": "2022-05-16T16:04:15.054227Z"
    },
    "papermill": {
     "duration": 0.046587,
     "end_time": "2022-05-16T16:04:15.057075",
     "exception": false,
     "start_time": "2022-05-16T16:04:15.010488",
     "status": "completed"
    },
    "tags": []
   },
   "outputs": [],
   "source": [
    "train['title']=train.title.map(newtitles)\n",
    "test['title']=test.title.map(newtitles)"
   ]
  },
  {
   "cell_type": "code",
   "execution_count": 14,
   "id": "4c52343c",
   "metadata": {
    "_uuid": "66df44de23a18088a743891ac08d222d5af4150e",
    "execution": {
     "iopub.execute_input": "2022-05-16T16:04:15.131813Z",
     "iopub.status.busy": "2022-05-16T16:04:15.131244Z",
     "iopub.status.idle": "2022-05-16T16:04:15.142290Z",
     "shell.execute_reply": "2022-05-16T16:04:15.141709Z"
    },
    "papermill": {
     "duration": 0.050642,
     "end_time": "2022-05-16T16:04:15.144027",
     "exception": false,
     "start_time": "2022-05-16T16:04:15.093385",
     "status": "completed"
    },
    "tags": []
   },
   "outputs": [
    {
     "data": {
      "text/plain": [
       "title    Sex   \n",
       "Master   male       4.574167\n",
       "Miss     female    21.804054\n",
       "Mr       male      32.368090\n",
       "Mrs      female    35.718182\n",
       "Officer  female    49.000000\n",
       "         male      46.562500\n",
       "Royalty  female    40.500000\n",
       "         male      42.333333\n",
       "Name: Age, dtype: float64"
      ]
     },
     "execution_count": 14,
     "metadata": {},
     "output_type": "execute_result"
    }
   ],
   "source": [
    "train.groupby(['title','Sex']).Age.mean()"
   ]
  },
  {
   "cell_type": "code",
   "execution_count": 15,
   "id": "2f6a59d6",
   "metadata": {
    "_uuid": "f50d2ba3449c32e684a025e6d8bb42aff174e5a0",
    "execution": {
     "iopub.execute_input": "2022-05-16T16:04:15.218688Z",
     "iopub.status.busy": "2022-05-16T16:04:15.218364Z",
     "iopub.status.idle": "2022-05-16T16:04:15.226220Z",
     "shell.execute_reply": "2022-05-16T16:04:15.225334Z"
    },
    "papermill": {
     "duration": 0.047707,
     "end_time": "2022-05-16T16:04:15.228088",
     "exception": false,
     "start_time": "2022-05-16T16:04:15.180381",
     "status": "completed"
    },
    "tags": []
   },
   "outputs": [],
   "source": [
    "def newage (cols):\n",
    "    title=cols[0]\n",
    "    Sex=cols[1]\n",
    "    Age=cols[2]\n",
    "    if pd.isnull(Age):\n",
    "        if title=='Master' and Sex==\"male\":\n",
    "            return 4.57\n",
    "        elif title=='Miss' and Sex=='female':\n",
    "            return 21.8\n",
    "        elif title=='Mr' and Sex=='male': \n",
    "            return 32.37\n",
    "        elif title=='Mrs' and Sex=='female':\n",
    "            return 35.72\n",
    "        elif title=='Officer' and Sex=='female':\n",
    "            return 49\n",
    "        elif title=='Officer' and Sex=='male':\n",
    "            return 46.56\n",
    "        elif title=='Royalty' and Sex=='female':\n",
    "            return 40.50\n",
    "        else:\n",
    "            return 42.33\n",
    "    else:\n",
    "        return Age "
   ]
  },
  {
   "cell_type": "code",
   "execution_count": 16,
   "id": "a995403e",
   "metadata": {
    "_uuid": "136aff17772e088bffe1f94742cd7eaaafb3d71b",
    "execution": {
     "iopub.execute_input": "2022-05-16T16:04:15.302937Z",
     "iopub.status.busy": "2022-05-16T16:04:15.302589Z",
     "iopub.status.idle": "2022-05-16T16:04:15.338395Z",
     "shell.execute_reply": "2022-05-16T16:04:15.337500Z"
    },
    "papermill": {
     "duration": 0.075949,
     "end_time": "2022-05-16T16:04:15.340806",
     "exception": false,
     "start_time": "2022-05-16T16:04:15.264857",
     "status": "completed"
    },
    "tags": []
   },
   "outputs": [],
   "source": [
    "train.Age=train[['title','Sex','Age']].apply(newage, axis=1)\n",
    "test.Age=test[['title','Sex','Age']].apply(newage, axis=1)"
   ]
  },
  {
   "cell_type": "code",
   "execution_count": 17,
   "id": "6d7c04b5",
   "metadata": {
    "_uuid": "28e5dd340fa8337970c057c230491d0cf6880f44",
    "execution": {
     "iopub.execute_input": "2022-05-16T16:04:15.416354Z",
     "iopub.status.busy": "2022-05-16T16:04:15.416096Z",
     "iopub.status.idle": "2022-05-16T16:04:32.779201Z",
     "shell.execute_reply": "2022-05-16T16:04:32.778271Z"
    },
    "papermill": {
     "duration": 17.404393,
     "end_time": "2022-05-16T16:04:32.781926",
     "exception": false,
     "start_time": "2022-05-16T16:04:15.377533",
     "status": "completed"
    },
    "tags": []
   },
   "outputs": [
    {
     "data": {
      "text/plain": [
       "<AxesSubplot:xlabel='Fare'>"
      ]
     },
     "execution_count": 17,
     "metadata": {},
     "output_type": "execute_result"
    },
    {
     "data": {
      "image/png": "[encoded data removed]",
      "text/plain": [
       "<Figure size 864x720 with 9 Axes>"
      ]
     },
     "metadata": {
      "needs_background": "light"
     },
     "output_type": "display_data"
    }
   ],
   "source": [
    "warnings.filterwarnings(action=\"ignore\")\n",
    "plt.figure(figsize=[12,10])\n",
    "plt.subplot(3,3,1)\n",
    "sns.barplot('Pclass','Survived',data=train)\n",
    "plt.subplot(3,3,2)\n",
    "sns.barplot('SibSp','Survived',data=train)\n",
    "plt.subplot(3,3,3)\n",
    "sns.barplot('Parch','Survived',data=train)\n",
    "plt.subplot(3,3,4)\n",
    "sns.barplot('Sex','Survived',data=train)\n",
    "plt.subplot(3,3,5)\n",
    "sns.barplot('Ticket','Survived',data=train)\n",
    "plt.subplot(3,3,6)\n",
    "sns.barplot('Cabin','Survived',data=train)\n",
    "plt.subplot(3,3,7)\n",
    "sns.barplot('Embarked','Survived',data=train)\n",
    "plt.subplot(3,3,8)\n",
    "sns.distplot(train[train.Survived==1].Age, color='green', kde=False)\n",
    "sns.distplot(train[train.Survived==0].Age, color='orange', kde=False)\n",
    "plt.subplot(3,3,9)\n",
    "sns.distplot(train[train.Survived==1].Fare, color='green', kde=False)\n",
    "sns.distplot(train[train.Survived==0].Fare, color='orange', kde=False)"
   ]
  },
  {
   "cell_type": "code",
   "execution_count": 18,
   "id": "14b791d6",
   "metadata": {
    "_uuid": "98522ed1ac09aa4b98320d5a61cd8b7d8f2a223d",
    "execution": {
     "iopub.execute_input": "2022-05-16T16:04:32.862448Z",
     "iopub.status.busy": "2022-05-16T16:04:32.862166Z",
     "iopub.status.idle": "2022-05-16T16:04:32.878530Z",
     "shell.execute_reply": "2022-05-16T16:04:32.877634Z"
    },
    "papermill": {
     "duration": 0.059662,
     "end_time": "2022-05-16T16:04:32.881016",
     "exception": false,
     "start_time": "2022-05-16T16:04:32.821354",
     "status": "completed"
    },
    "tags": []
   },
   "outputs": [],
   "source": [
    "train['Relatives']=train.SibSp+train.Parch\n",
    "test['Relatives']=test.SibSp+test.Parch\n",
    "\n",
    "train['Ticket2']=train.Ticket.apply(lambda x : len(x))\n",
    "test['Ticket2']=test.Ticket.apply(lambda x : len(x))\n",
    "\n",
    "train['Cabin2']=train.Cabin.apply(lambda x : len(x))\n",
    "test['Cabin2']=test.Cabin.apply(lambda x : len(x))\n",
    "\n",
    "train['Name2']=train.Name.apply(lambda x: x.split(',')[0].strip())\n",
    "test['Name2']=test.Name.apply(lambda x: x.split(',')[0].strip())"
   ]
  },
  {
   "cell_type": "code",
   "execution_count": 19,
   "id": "9e641c4f",
   "metadata": {
    "_uuid": "982bf5fcbc0007766dfb75580b0603eb19b7b095",
    "execution": {
     "iopub.execute_input": "2022-05-16T16:04:32.960084Z",
     "iopub.status.busy": "2022-05-16T16:04:32.959785Z",
     "iopub.status.idle": "2022-05-16T16:04:34.497136Z",
     "shell.execute_reply": "2022-05-16T16:04:34.496240Z"
    },
    "papermill": {
     "duration": 1.57939,
     "end_time": "2022-05-16T16:04:34.499520",
     "exception": false,
     "start_time": "2022-05-16T16:04:32.920130",
     "status": "completed"
    },
    "tags": []
   },
   "outputs": [
    {
     "data": {
      "text/plain": [
       "<AxesSubplot:xlabel='Cabin2', ylabel='Survived'>"
      ]
     },
     "execution_count": 19,
     "metadata": {},
     "output_type": "execute_result"
    },
    {
     "data": {
      "image/png": "[encoded data removed]",
      "text/plain": [
       "<Figure size 864x720 with 3 Axes>"
      ]
     },
     "metadata": {
      "needs_background": "light"
     },
     "output_type": "display_data"
    }
   ],
   "source": [
    "warnings.filterwarnings(action=\"ignore\")\n",
    "plt.figure(figsize=[12,10])\n",
    "plt.subplot(3,3,1)\n",
    "sns.barplot('Relatives','Survived',data=train)\n",
    "plt.subplot(3,3,2)\n",
    "sns.barplot('Ticket2','Survived',data=train)\n",
    "plt.subplot(3,3,3)\n",
    "sns.barplot('Cabin2','Survived',data=train)\n"
   ]
  },
  {
   "cell_type": "code",
   "execution_count": 20,
   "id": "404bb6fd",
   "metadata": {
    "_uuid": "299bd826a438479feab22302fba83063136ac4a2",
    "execution": {
     "iopub.execute_input": "2022-05-16T16:04:34.581516Z",
     "iopub.status.busy": "2022-05-16T16:04:34.581091Z",
     "iopub.status.idle": "2022-05-16T16:04:34.589440Z",
     "shell.execute_reply": "2022-05-16T16:04:34.588742Z"
    },
    "papermill": {
     "duration": 0.051928,
     "end_time": "2022-05-16T16:04:34.591478",
     "exception": false,
     "start_time": "2022-05-16T16:04:34.539550",
     "status": "completed"
    },
    "tags": []
   },
   "outputs": [],
   "source": [
    "#droping features I won't use in model\n",
    "#train.drop(['PassengerId','Name','Ticket','SibSp','Parch','Ticket','Cabin']\n",
    "train.drop(['PassengerId','Name','Ticket','SibSp','Parch','Ticket','Cabin'],axis=1,inplace=True)\n",
    "test.drop(['PassengerId','Name','Ticket','SibSp','Parch','Ticket','Cabin'],axis=1,inplace=True)"
   ]
  },
  {
   "cell_type": "code",
   "execution_count": 21,
   "id": "1fca2809",
   "metadata": {
    "_uuid": "88dc68dbf624344c118973195c447e0f389e90f6",
    "execution": {
     "iopub.execute_input": "2022-05-16T16:04:34.672424Z",
     "iopub.status.busy": "2022-05-16T16:04:34.672023Z",
     "iopub.status.idle": "2022-05-16T16:04:34.679197Z",
     "shell.execute_reply": "2022-05-16T16:04:34.678664Z"
    },
    "papermill": {
     "duration": 0.049886,
     "end_time": "2022-05-16T16:04:34.681049",
     "exception": false,
     "start_time": "2022-05-16T16:04:34.631163",
     "status": "completed"
    },
    "tags": []
   },
   "outputs": [],
   "source": [
    "titanic=pd.concat([train, test], sort=False)"
   ]
  },
  {
   "cell_type": "code",
   "execution_count": 22,
   "id": "15c8304a",
   "metadata": {
    "_uuid": "60f904c5d5988c9217837121b247e054e156f837",
    "execution": {
     "iopub.execute_input": "2022-05-16T16:04:34.761444Z",
     "iopub.status.busy": "2022-05-16T16:04:34.761157Z",
     "iopub.status.idle": "2022-05-16T16:04:34.784142Z",
     "shell.execute_reply": "2022-05-16T16:04:34.783377Z"
    },
    "papermill": {
     "duration": 0.065863,
     "end_time": "2022-05-16T16:04:34.786346",
     "exception": false,
     "start_time": "2022-05-16T16:04:34.720483",
     "status": "completed"
    },
    "tags": []
   },
   "outputs": [],
   "source": [
    "titanic=pd.get_dummies(titanic)"
   ]
  },
  {
   "cell_type": "code",
   "execution_count": 23,
   "id": "4677c013",
   "metadata": {
    "_uuid": "08d782f1cc1c81162be17fbc9ed64088de61be1a",
    "execution": {
     "iopub.execute_input": "2022-05-16T16:04:34.868431Z",
     "iopub.status.busy": "2022-05-16T16:04:34.867952Z",
     "iopub.status.idle": "2022-05-16T16:04:34.872454Z",
     "shell.execute_reply": "2022-05-16T16:04:34.871832Z"
    },
    "papermill": {
     "duration": 0.048166,
     "end_time": "2022-05-16T16:04:34.874411",
     "exception": false,
     "start_time": "2022-05-16T16:04:34.826245",
     "status": "completed"
    },
    "tags": []
   },
   "outputs": [],
   "source": [
    "train=titanic[:len_train]\n",
    "test=titanic[len_train:]"
   ]
  },
  {
   "cell_type": "code",
   "execution_count": 24,
   "id": "246e9894",
   "metadata": {
    "_uuid": "8f7f6507c1d6f20c714fe348b6e6021c96496c07",
    "execution": {
     "iopub.execute_input": "2022-05-16T16:04:34.958583Z",
     "iopub.status.busy": "2022-05-16T16:04:34.958017Z",
     "iopub.status.idle": "2022-05-16T16:04:34.965580Z",
     "shell.execute_reply": "2022-05-16T16:04:34.964727Z"
    },
    "papermill": {
     "duration": 0.052258,
     "end_time": "2022-05-16T16:04:34.967548",
     "exception": false,
     "start_time": "2022-05-16T16:04:34.915290",
     "status": "completed"
    },
    "tags": []
   },
   "outputs": [
    {
     "data": {
      "text/plain": [
       "dtype('int64')"
      ]
     },
     "execution_count": 24,
     "metadata": {},
     "output_type": "execute_result"
    }
   ],
   "source": [
    "# Lets change type of target\n",
    "train.Survived=train.Survived.astype('int')\n",
    "train.Survived.dtype"
   ]
  },
  {
   "cell_type": "code",
   "execution_count": 25,
   "id": "251333a6",
   "metadata": {
    "_uuid": "68c8be4c58ea5c377a5d62b5dea9c81f085a88ea",
    "execution": {
     "iopub.execute_input": "2022-05-16T16:04:35.050435Z",
     "iopub.status.busy": "2022-05-16T16:04:35.050027Z",
     "iopub.status.idle": "2022-05-16T16:04:35.059752Z",
     "shell.execute_reply": "2022-05-16T16:04:35.058828Z"
    },
    "papermill": {
     "duration": 0.053401,
     "end_time": "2022-05-16T16:04:35.062001",
     "exception": false,
     "start_time": "2022-05-16T16:04:35.008600",
     "status": "completed"
    },
    "tags": []
   },
   "outputs": [],
   "source": [
    "xtrain=train.drop(\"Survived\",axis=1)\n",
    "ytrain=train['Survived']\n",
    "xtest=test.drop(\"Survived\", axis=1)"
   ]
  },
  {
   "cell_type": "code",
   "execution_count": 26,
   "id": "dfa597bb",
   "metadata": {
    "_uuid": "030e27f5ad58f7ce221dfbbe2c7fabdfb8c0fe12",
    "execution": {
     "iopub.execute_input": "2022-05-16T16:04:35.144892Z",
     "iopub.status.busy": "2022-05-16T16:04:35.144558Z",
     "iopub.status.idle": "2022-05-16T16:04:46.787207Z",
     "shell.execute_reply": "2022-05-16T16:04:46.786229Z"
    },
    "papermill": {
     "duration": 11.687611,
     "end_time": "2022-05-16T16:04:46.789629",
     "exception": false,
     "start_time": "2022-05-16T16:04:35.102018",
     "status": "completed"
    },
    "tags": []
   },
   "outputs": [],
   "source": [
    "RF=RandomForestClassifier(random_state=1)\n",
    "PRF=[{'n_estimators':[10,100],'max_depth':[3,6],'criterion':['gini','entropy']}]\n",
    "GSRF=GridSearchCV(estimator=RF, param_grid=PRF, scoring='accuracy',cv=2)\n",
    "scores_rf=cross_val_score(GSRF,xtrain,ytrain,scoring='accuracy',cv=5)"
   ]
  },
  {
   "cell_type": "code",
   "execution_count": 27,
   "id": "ad390869",
   "metadata": {
    "_uuid": "2cbe1de27a1673038fd2f082d4d5610c75b87b8e",
    "execution": {
     "iopub.execute_input": "2022-05-16T16:04:46.878303Z",
     "iopub.status.busy": "2022-05-16T16:04:46.877991Z",
     "iopub.status.idle": "2022-05-16T16:04:46.884316Z",
     "shell.execute_reply": "2022-05-16T16:04:46.883292Z"
    },
    "papermill": {
     "duration": 0.053358,
     "end_time": "2022-05-16T16:04:46.886403",
     "exception": false,
     "start_time": "2022-05-16T16:04:46.833045",
     "status": "completed"
    },
    "tags": []
   },
   "outputs": [
    {
     "data": {
      "text/plain": [
       "0.7553888644780616"
      ]
     },
     "execution_count": 27,
     "metadata": {},
     "output_type": "execute_result"
    }
   ],
   "source": [
    "np.mean(scores_rf)"
   ]
  },
  {
   "cell_type": "code",
   "execution_count": 28,
   "id": "8f708c65",
   "metadata": {
    "_uuid": "06807386d6424d4f2b771eda3d11d12571193ebd",
    "execution": {
     "iopub.execute_input": "2022-05-16T16:04:46.974795Z",
     "iopub.status.busy": "2022-05-16T16:04:46.973831Z",
     "iopub.status.idle": "2022-05-16T16:06:29.625904Z",
     "shell.execute_reply": "2022-05-16T16:06:29.624878Z"
    },
    "papermill": {
     "duration": 102.700173,
     "end_time": "2022-05-16T16:06:29.628548",
     "exception": false,
     "start_time": "2022-05-16T16:04:46.928375",
     "status": "completed"
    },
    "tags": []
   },
   "outputs": [],
   "source": [
    "svc=make_pipeline(StandardScaler(),SVC(random_state=1))\n",
    "r=[0.0001,0.001,0.1,1,10,50,100]\n",
    "PSVM=[{'svc__C':r, 'svc__kernel':['linear']},\n",
    "      {'svc__C':r, 'svc__gamma':r, 'svc__kernel':['rbf']}]\n",
    "GSSVM=GridSearchCV(estimator=svc, param_grid=PSVM, scoring='accuracy', cv=2)\n",
    "scores_svm=cross_val_score(GSSVM, xtrain.astype(float), ytrain,scoring='accuracy', cv=5)"
   ]
  },
  {
   "cell_type": "code",
   "execution_count": 29,
   "id": "d08eece7",
   "metadata": {
    "_uuid": "4e304352c911e5dce5f0b9c36e3952842f6e662d",
    "execution": {
     "iopub.execute_input": "2022-05-16T16:06:29.711248Z",
     "iopub.status.busy": "2022-05-16T16:06:29.710813Z",
     "iopub.status.idle": "2022-05-16T16:06:29.716678Z",
     "shell.execute_reply": "2022-05-16T16:06:29.715725Z"
    },
    "papermill": {
     "duration": 0.049209,
     "end_time": "2022-05-16T16:06:29.718615",
     "exception": false,
     "start_time": "2022-05-16T16:06:29.669406",
     "status": "completed"
    },
    "tags": []
   },
   "outputs": [
    {
     "data": {
      "text/plain": [
       "0.8439645973259683"
      ]
     },
     "execution_count": 29,
     "metadata": {},
     "output_type": "execute_result"
    }
   ],
   "source": [
    "np.mean(scores_svm)"
   ]
  },
  {
   "cell_type": "code",
   "execution_count": 30,
   "id": "fe1059d0",
   "metadata": {
    "_uuid": "5cb0141486fbf172d37ba84b689fabdd5e8fe74b",
    "execution": {
     "iopub.execute_input": "2022-05-16T16:06:29.802998Z",
     "iopub.status.busy": "2022-05-16T16:06:29.802418Z",
     "iopub.status.idle": "2022-05-16T16:06:59.819807Z",
     "shell.execute_reply": "2022-05-16T16:06:59.818816Z"
    },
    "papermill": {
     "duration": 30.062342,
     "end_time": "2022-05-16T16:06:59.822569",
     "exception": false,
     "start_time": "2022-05-16T16:06:29.760227",
     "status": "completed"
    },
    "tags": []
   },
   "outputs": [],
   "source": [
    "model=GSSVM.fit(xtrain, ytrain)"
   ]
  },
  {
   "cell_type": "code",
   "execution_count": 31,
   "id": "041e0c54",
   "metadata": {
    "_uuid": "8605e911effe3579d5312b1354ce78f8047fcc2b",
    "execution": {
     "iopub.execute_input": "2022-05-16T16:06:59.908149Z",
     "iopub.status.busy": "2022-05-16T16:06:59.907524Z",
     "iopub.status.idle": "2022-05-16T16:07:00.126834Z",
     "shell.execute_reply": "2022-05-16T16:07:00.125592Z"
    },
    "papermill": {
     "duration": 0.265247,
     "end_time": "2022-05-16T16:07:00.129471",
     "exception": false,
     "start_time": "2022-05-16T16:06:59.864224",
     "status": "completed"
    },
    "tags": []
   },
   "outputs": [],
   "source": [
    "pred=model.predict(xtest)"
   ]
  },
  {
   "cell_type": "code",
   "execution_count": 32,
   "id": "6b86fd7b",
   "metadata": {
    "_uuid": "59a6aea5e61c31558d95c0bdfc13b4d425ed3ba3",
    "execution": {
     "iopub.execute_input": "2022-05-16T16:07:00.215079Z",
     "iopub.status.busy": "2022-05-16T16:07:00.214767Z",
     "iopub.status.idle": "2022-05-16T16:07:00.220581Z",
     "shell.execute_reply": "2022-05-16T16:07:00.219682Z"
    },
    "papermill": {
     "duration": 0.050988,
     "end_time": "2022-05-16T16:07:00.222992",
     "exception": false,
     "start_time": "2022-05-16T16:07:00.172004",
     "status": "completed"
    },
    "tags": []
   },
   "outputs": [],
   "source": [
    "output=pd.DataFrame({'PassengerId':test2['PassengerId'],'Survived':pred})"
   ]
  },
  {
   "cell_type": "code",
   "execution_count": 33,
   "id": "fb59f4ee",
   "metadata": {
    "_uuid": "20ebba72fdb6357b5041f48b9b8d2ac2b7998475",
    "execution": {
     "iopub.execute_input": "2022-05-16T16:07:00.306180Z",
     "iopub.status.busy": "2022-05-16T16:07:00.305530Z",
     "iopub.status.idle": "2022-05-16T16:07:00.313897Z",
     "shell.execute_reply": "2022-05-16T16:07:00.313093Z"
    },
    "papermill": {
     "duration": 0.052738,
     "end_time": "2022-05-16T16:07:00.316327",
     "exception": false,
     "start_time": "2022-05-16T16:07:00.263589",
     "status": "completed"
    },
    "tags": []
   },
   "outputs": [],
   "source": [
    "output.to_csv('submission.csv', index=False)"
   ]
  }
 ],
 "metadata": {
  "kernelspec": {
   "display_name": "Python 3",
   "language": "python",
   "name": "python3"
  },
  "language_info": {
   "codemirror_mode": {
    "name": "ipython",
    "version": 3
   },
   "file_extension": ".py",
   "mimetype": "text/x-python",
   "name": "python",
   "nbconvert_exporter": "python",
   "pygments_lexer": "ipython3",
   "version": "3.7.12"
  },
  "papermill": {
   "default_parameters": {},
   "duration": 179.374127,
   "end_time": "2022-05-16T16:07:01.481432",
   "environment_variables": {},
   "exception": null,
   "input_path": "__notebook__.ipynb",
   "output_path": "__notebook__.ipynb",
   "parameters": {},
   "start_time": "2022-05-16T16:04:02.107305",
   "version": "2.3.4"
  }
 },
 "nbformat": 4,
 "nbformat_minor": 5
}
